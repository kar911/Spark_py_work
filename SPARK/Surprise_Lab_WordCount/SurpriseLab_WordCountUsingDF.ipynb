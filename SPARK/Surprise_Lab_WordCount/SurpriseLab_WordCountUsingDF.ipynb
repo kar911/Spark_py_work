{
 "cells": [
  {
   "cell_type": "markdown",
   "id": "1f28f2be",
   "metadata": {},
   "source": [
    "# Word Count using DF\n",
    "\n",
    "- You already implemented the word count application using RDD. Now implement the same using DF"
   ]
  },
  {
   "cell_type": "markdown",
   "id": "739462b4",
   "metadata": {},
   "source": [
    "### Instructions\n",
    "1. Study the below code, understand it.\n",
    "2. Apply your understanding and write down the word count application in DataFrame to count the frequecy of occurance of each word in descending order, from a file `constitution.txt` residing in your home on HDFS.\n",
    "3. Note down every API you used in the solution and have a brainstorming session with your coding partner to solidify your understanding.\n",
    "\n",
    "- **TimeLine** - 45 Mins\n"
   ]
  },
  {
   "cell_type": "code",
   "execution_count": 2,
   "id": "4cd0a782",
   "metadata": {},
   "outputs": [],
   "source": [
    "# Intialization\n",
    "import os\n",
    "import sys\n",
    "\n",
    "os.environ[\"SPARK_HOME\"] = \"/home/talentum/spark\"\n",
    "os.environ[\"PYLIB\"] = os.environ[\"SPARK_HOME\"] + \"/python/lib\"\n",
    "# In below two lines, use /usr/bin/python2.7 if you want to use Python 2\n",
    "os.environ[\"PYSPARK_PYTHON\"] = \"/usr/bin/python3.6\" \n",
    "os.environ[\"PYSPARK_DRIVER_PYTHON\"] = \"/usr/bin/python3\"\n",
    "sys.path.insert(0, os.environ[\"PYLIB\"] +\"/py4j-0.10.7-src.zip\")\n",
    "sys.path.insert(0, os.environ[\"PYLIB\"] +\"/pyspark.zip\")\n",
    "\n",
    "# NOTE: Whichever package you want mention here.\n",
    "# os.environ['PYSPARK_SUBMIT_ARGS'] = '--packages com.databricks:spark-xml_2.11:0.6.0 pyspark-shell' \n",
    "# os.environ['PYSPARK_SUBMIT_ARGS'] = '--packages org.apache.spark:spark-avro_2.11:2.4.0 pyspark-shell'\n",
    "os.environ['PYSPARK_SUBMIT_ARGS'] = '--packages com.databricks:spark-xml_2.11:0.6.0,org.apache.spark:spark-avro_2.11:2.4.3 pyspark-shell'\n",
    "# os.environ['PYSPARK_SUBMIT_ARGS'] = '--packages com.databricks:spark-xml_2.11:0.6.0,org.apache.spark:spark-avro_2.11:2.4.0 pyspark-shell'"
   ]
  },
  {
   "cell_type": "code",
   "execution_count": 3,
   "id": "c47314ee",
   "metadata": {},
   "outputs": [],
   "source": [
    "#Entrypoint 2.x\n",
    "from pyspark.sql import SparkSession\n",
    "spark = SparkSession.builder.appName(\"Spark SQL basic example\").enableHiveSupport().getOrCreate()\n",
    "\n",
    "# On yarn:\n",
    "# spark = SparkSession.builder.appName(\"Spark SQL basic example\").enableHiveSupport().master(\"yarn\").getOrCreate()\n",
    "# specify .master(\"yarn\")\n",
    "\n",
    "sc = spark.sparkContext"
   ]
  },
  {
   "cell_type": "code",
   "execution_count": 1,
   "id": "6b542a13",
   "metadata": {},
   "outputs": [],
   "source": [
    "stop_words = ['i',\n",
    " 'me',\n",
    " 'my',\n",
    " 'myself',\n",
    " 'we',\n",
    " 'our',\n",
    " 'ours',\n",
    " 'ourselves',\n",
    " 'you',\n",
    " 'your',\n",
    " 'yours',\n",
    " 'yourself',\n",
    " 'yourselves',\n",
    " 'he',\n",
    " 'him',\n",
    " 'his',\n",
    " 'himself',\n",
    " 'she',\n",
    " 'her',\n",
    " 'hers',\n",
    " 'herself',\n",
    " 'it',\n",
    " 'its',\n",
    " 'itself',\n",
    " 'they',\n",
    " 'them',\n",
    " 'their',\n",
    " 'theirs',\n",
    " 'themselves',\n",
    " 'what',\n",
    " 'which',\n",
    " 'who',\n",
    " 'whom',\n",
    " 'this',\n",
    " 'that',\n",
    " 'these',\n",
    " 'those',\n",
    " 'am',\n",
    " 'is',\n",
    " 'are',\n",
    " 'was',\n",
    " 'were',\n",
    " 'be',\n",
    " 'been',\n",
    " 'being',\n",
    " 'have',\n",
    " 'has',\n",
    " 'had',\n",
    " 'having',\n",
    " 'do',\n",
    " 'does',\n",
    " 'did',\n",
    " 'doing',\n",
    " 'a',\n",
    " 'an',\n",
    " 'the',\n",
    " 'and',\n",
    " 'but',\n",
    " 'if',\n",
    " 'or',\n",
    " 'because',\n",
    " 'as',\n",
    " 'until',\n",
    " 'while',\n",
    " 'of',\n",
    " 'at',\n",
    " 'by',\n",
    " 'for',\n",
    " 'with',\n",
    " 'about',\n",
    " 'against',\n",
    " 'between',\n",
    " 'into',\n",
    " 'through',\n",
    " 'during',\n",
    " 'before',\n",
    " 'after',\n",
    " 'above',\n",
    " 'below',\n",
    " 'to',\n",
    " 'from',\n",
    " 'up',\n",
    " 'down',\n",
    " 'in',\n",
    " 'out',\n",
    " 'on',\n",
    " 'off',\n",
    " 'over',\n",
    " 'under',\n",
    " 'again',\n",
    " 'further',\n",
    " 'then',\n",
    " 'once',\n",
    " 'here',\n",
    " 'there',\n",
    " 'when',\n",
    " 'where',\n",
    " 'why',\n",
    " 'how',\n",
    " 'all',\n",
    " 'any',\n",
    " 'both',\n",
    " 'each',\n",
    " 'few',\n",
    " 'more',\n",
    " 'most',\n",
    " 'other',\n",
    " 'some',\n",
    " 'such',\n",
    " 'no',\n",
    " 'nor',\n",
    " 'not',\n",
    " 'only',\n",
    " 'own',\n",
    " 'same',\n",
    " 'so',\n",
    " 'than',\n",
    " 'too',\n",
    " 'very',\n",
    " 'can',\n",
    " 'will',\n",
    " 'just',\n",
    " 'don',\n",
    " 'should',\n",
    " 'now',\n",
    "  '']\n"
   ]
  },
  {
   "cell_type": "code",
   "execution_count": 2,
   "id": "516b87f1",
   "metadata": {},
   "outputs": [
    {
     "name": "stdout",
     "output_type": "stream",
     "text": [
      "/home/talentum/spark-jupyter/Surprise_Lab_WordCount\r\n"
     ]
    }
   ],
   "source": [
    "!pwd"
   ]
  },
  {
   "cell_type": "code",
   "execution_count": 8,
   "id": "f7542b0a",
   "metadata": {},
   "outputs": [
    {
     "name": "stdout",
     "output_type": "stream",
     "text": [
      "root\n",
      " |-- value: string (nullable = true)\n",
      "\n",
      "None\n"
     ]
    }
   ],
   "source": [
    "import pyspark.sql.functions as F\n",
    "\n",
    "df1 = spark.read.text(\"hdfs:///user/talentum/constitution.txt\")\n",
    "print(df1.printSchema())\n"
   ]
  },
  {
   "cell_type": "code",
   "execution_count": 13,
   "id": "16ca06ca",
   "metadata": {},
   "outputs": [
    {
     "data": {
      "text/plain": [
       "pyspark.sql.dataframe.DataFrame"
      ]
     },
     "execution_count": 13,
     "metadata": {},
     "output_type": "execute_result"
    }
   ],
   "source": [
    "type(df1)"
   ]
  },
  {
   "cell_type": "code",
   "execution_count": 15,
   "id": "80eaad1d",
   "metadata": {},
   "outputs": [
    {
     "name": "stdout",
     "output_type": "stream",
     "text": [
      "+--------------------+\n",
      "|               value|\n",
      "+--------------------+\n",
      "|We the People of ...|\n",
      "|Union, establish ...|\n",
      "|common defence, p...|\n",
      "|Liberty to oursel...|\n",
      "|Constitution for ...|\n",
      "|Article 1.  Secti...|\n",
      "|vested in a Congr...|\n",
      "|Senate and House ...|\n",
      "|Representatives s...|\n",
      "|the People of the...|\n",
      "+--------------------+\n",
      "only showing top 10 rows\n",
      "\n",
      "+--------------------+--------------------+\n",
      "|               value|               split|\n",
      "+--------------------+--------------------+\n",
      "|We the People of ...|[We, the, People,...|\n",
      "|Union, establish ...|[Union,, establis...|\n",
      "|common defence, p...|[common, defence,...|\n",
      "|Liberty to oursel...|[Liberty, to, our...|\n",
      "|Constitution for ...|[Constitution, fo...|\n",
      "|Article 1.  Secti...|[Article, 1., Sec...|\n",
      "|vested in a Congr...|[vested, in, a, C...|\n",
      "|Senate and House ...|[Senate, and, Hou...|\n",
      "|Representatives s...|[Representatives,...|\n",
      "|the People of the...|[the, People, of,...|\n",
      "+--------------------+--------------------+\n",
      "only showing top 10 rows\n",
      "\n",
      "+-------+\n",
      "|   Word|\n",
      "+-------+\n",
      "|     We|\n",
      "|    the|\n",
      "| People|\n",
      "|     of|\n",
      "|    the|\n",
      "| United|\n",
      "|States,|\n",
      "|     in|\n",
      "|  Order|\n",
      "|     to|\n",
      "+-------+\n",
      "only showing top 10 rows\n",
      "\n"
     ]
    }
   ],
   "source": [
    "#df1.show(5, truncate = False)\n",
    "df1.show(10)\n",
    "df2 = df1.withColumn(\"split\", F.split(F.col('value'), \"\\s+\"))\n",
    "df2.show(10)\n",
    "df2.drop(F.col('value')).select(F.explode(F.col('split')).alias(\"Word\")).show(10)\n",
    "# .filter(~F.col('Word').isin(stop_words)).groupBy(F.col('Word')).count() \\\n",
    "# .sort(F.col('count').desc()).withColumnRenamed('count', 'Freq')\n",
    "# df2.show(20, truncate = False)\n",
    "                     "
   ]
  },
  {
   "cell_type": "code",
   "execution_count": 12,
   "id": "05b9ed22",
   "metadata": {},
   "outputs": [
    {
     "name": "stdout",
     "output_type": "stream",
     "text": [
      "+---------------+----+\n",
      "|Word           |Freq|\n",
      "+---------------+----+\n",
      "|shall          |293 |\n",
      "|United         |85  |\n",
      "|President      |72  |\n",
      "|The            |64  |\n",
      "|States,        |55  |\n",
      "|State          |47  |\n",
      "|States         |46  |\n",
      "|may            |42  |\n",
      "|Congress       |39  |\n",
      "|Amendment      |28  |\n",
      "|House          |27  |\n",
      "|President,     |27  |\n",
      "|Vice           |24  |\n",
      "|one            |24  |\n",
      "|Representatives|22  |\n",
      "|Section        |22  |\n",
      "|No             |21  |\n",
      "|State,         |20  |\n",
      "|person         |20  |\n",
      "|two            |19  |\n",
      "+---------------+----+\n",
      "only showing top 20 rows\n",
      "\n"
     ]
    }
   ],
   "source": [
    "#df1.show(5, truncate = False)\n",
    "# df1.show(10)\n",
    "df2 = df1.withColumn(\"split\", F.split(F.col('value'), \"\\s+\")) \\\n",
    ".drop(F.col('value')).select(F.explode(F.col('split')).alias(\"Word\")) \\\n",
    ".filter(~F.col('Word').isin(stop_words)).groupBy(F.col('Word')).count() \\\n",
    ".sort(F.col('count').desc()).withColumnRenamed('count', 'Freq')\n",
    "df2.show(20, truncate = False)\n",
    "                     "
   ]
  },
  {
   "cell_type": "code",
   "execution_count": 14,
   "id": "253f7420",
   "metadata": {},
   "outputs": [
    {
     "name": "stdout",
     "output_type": "stream",
     "text": [
      "+---------+----+\n",
      "|Word     |Freq|\n",
      "+---------+----+\n",
      "|the      |662 |\n",
      "|         |645 |\n",
      "|of       |493 |\n",
      "|shall    |293 |\n",
      "|and      |256 |\n",
      "|to       |183 |\n",
      "|be       |178 |\n",
      "|or       |157 |\n",
      "|in       |137 |\n",
      "|by       |100 |\n",
      "|a        |94  |\n",
      "|United   |85  |\n",
      "|for      |81  |\n",
      "|any      |79  |\n",
      "|President|72  |\n",
      "|as       |64  |\n",
      "|The      |64  |\n",
      "|have     |63  |\n",
      "|States,  |55  |\n",
      "|such     |52  |\n",
      "+---------+----+\n",
      "only showing top 20 rows\n",
      "\n"
     ]
    }
   ],
   "source": [
    "#df1.show(5, truncate = False)\n",
    "# df1.show(10)\n",
    "df2 = df1.withColumn(\"split\", F.split(F.col('value'), \"\\s+\")) \\\n",
    ".drop(F.col('value')).select(F.explode(F.col('split')).alias(\"Word\")) \\\n",
    ".groupBy(F.col('Word')).count() \\\n",
    ".sort(F.col('count').desc()).withColumnRenamed('count', 'Freq')\n",
    "df2.show(20, truncate = False)\n",
    "                     "
   ]
  },
  {
   "cell_type": "markdown",
   "id": "ee9a09d0",
   "metadata": {},
   "source": []
  }
 ],
 "metadata": {
  "kernelspec": {
   "display_name": "Python 3",
   "language": "python",
   "name": "python3"
  },
  "language_info": {
   "codemirror_mode": {
    "name": "ipython",
    "version": 3
   },
   "file_extension": ".py",
   "mimetype": "text/x-python",
   "name": "python",
   "nbconvert_exporter": "python",
   "pygments_lexer": "ipython3",
   "version": "3.6.9"
  }
 },
 "nbformat": 4,
 "nbformat_minor": 5
}
