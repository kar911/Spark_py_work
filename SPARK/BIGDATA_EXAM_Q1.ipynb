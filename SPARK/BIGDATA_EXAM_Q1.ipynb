{
 "cells": [
  {
   "cell_type": "code",
   "execution_count": 1,
   "id": "47414c0e",
   "metadata": {},
   "outputs": [],
   "source": [
    "!hdfs dfs -put /home/talentum/covid-19_dataset.csv /"
   ]
  },
  {
   "cell_type": "code",
   "execution_count": 2,
   "id": "ae71a83a",
   "metadata": {},
   "outputs": [
    {
     "name": "stdout",
     "output_type": "stream",
     "text": [
      "Found 4 items\r\n",
      "-rw-r--r--   1 talentum supergroup      13978 2023-12-05 08:13 /covid-19_dataset.csv\r\n",
      "drwxr-xr-x   - talentum supergroup          0 2023-12-05 00:28 /hbase\r\n",
      "drwx-wx-wx   - talentum supergroup          0 2023-12-05 00:22 /tmp\r\n",
      "drwxr-xr-x   - talentum supergroup          0 2023-12-04 19:23 /user\r\n"
     ]
    }
   ],
   "source": [
    "!hdfs dfs -ls /"
   ]
  },
  {
   "cell_type": "code",
   "execution_count": 4,
   "id": "c800d8a2",
   "metadata": {},
   "outputs": [
    {
     "name": "stdout",
     "output_type": "stream",
     "text": [
      "DeadCounter,CaseCounter,RecoveredCounter,CriticalCounter,Date\r",
      "\r\n",
      "1,72,188,-9,05-09-2021\r",
      "\r\n",
      "1,103,187,-5,04-09-2021\r",
      "\r\n"
     ]
    }
   ],
   "source": [
    "!head -3 /home/talentum/covid-19_dataset.csv"
   ]
  },
  {
   "cell_type": "code",
   "execution_count": 40,
   "id": "4bf2407b",
   "metadata": {},
   "outputs": [],
   "source": [
    "df=spark.read.csv('hdfs:///covid-19_dataset.csv',header=True,inferSchema=True)"
   ]
  },
  {
   "cell_type": "code",
   "execution_count": 41,
   "id": "cb09f9cb",
   "metadata": {},
   "outputs": [
    {
     "name": "stdout",
     "output_type": "stream",
     "text": [
      "root\n",
      " |-- DeadCounter: integer (nullable = true)\n",
      " |-- CaseCounter: integer (nullable = true)\n",
      " |-- RecoveredCounter: integer (nullable = true)\n",
      " |-- CriticalCounter: integer (nullable = true)\n",
      " |-- Date: string (nullable = true)\n",
      "\n"
     ]
    }
   ],
   "source": [
    "df.printSchema()"
   ]
  },
  {
   "cell_type": "code",
   "execution_count": 7,
   "id": "edc74c7b",
   "metadata": {},
   "outputs": [],
   "source": [
    "from pyspark.sql.functions import *"
   ]
  },
  {
   "cell_type": "code",
   "execution_count": null,
   "id": "6756d091",
   "metadata": {},
   "outputs": [],
   "source": []
  },
  {
   "cell_type": "code",
   "execution_count": 42,
   "id": "d048eb13",
   "metadata": {
    "scrolled": true
   },
   "outputs": [],
   "source": [
    "df=df.withColumn('date_c',to_date('Date','mm-dd-yyyy'))"
   ]
  },
  {
   "cell_type": "code",
   "execution_count": 43,
   "id": "33999958",
   "metadata": {},
   "outputs": [
    {
     "name": "stdout",
     "output_type": "stream",
     "text": [
      "+-----------+-----------+----------------+---------------+----------+----------+\n",
      "|DeadCounter|CaseCounter|RecoveredCounter|CriticalCounter|      Date|    date_c|\n",
      "+-----------+-----------+----------------+---------------+----------+----------+\n",
      "|          1|         72|             188|             -9|05-09-2021|2021-01-09|\n",
      "|          1|        103|             187|             -5|04-09-2021|2021-01-09|\n",
      "|          1|         95|             113|            -11|03-09-2021|2021-01-09|\n",
      "+-----------+-----------+----------------+---------------+----------+----------+\n",
      "only showing top 3 rows\n",
      "\n"
     ]
    }
   ],
   "source": [
    "df.show(3)"
   ]
  },
  {
   "cell_type": "markdown",
   "id": "5a7cc5c8",
   "metadata": {},
   "source": [
    "## 1"
   ]
  },
  {
   "cell_type": "code",
   "execution_count": 47,
   "id": "b340184c",
   "metadata": {
    "scrolled": true
   },
   "outputs": [
    {
     "name": "stdout",
     "output_type": "stream",
     "text": [
      "+----------+\n",
      "|    date_c|\n",
      "+----------+\n",
      "|2021-01-07|\n",
      "+----------+\n",
      "only showing top 1 row\n",
      "\n"
     ]
    }
   ],
   "source": [
    "df.select('date_c').orderBy('CaseCounter',ascending=False).show(1)"
   ]
  },
  {
   "cell_type": "markdown",
   "id": "ce9322cd",
   "metadata": {},
   "source": [
    "## 2"
   ]
  },
  {
   "cell_type": "code",
   "execution_count": 49,
   "id": "c4282c40",
   "metadata": {
    "scrolled": false
   },
   "outputs": [
    {
     "name": "stdout",
     "output_type": "stream",
     "text": [
      "+-----------+\n",
      "|CaseCounter|\n",
      "+-----------+\n",
      "|        991|\n",
      "+-----------+\n",
      "only showing top 1 row\n",
      "\n"
     ]
    }
   ],
   "source": [
    "df.select('CaseCounter').orderBy('CriticalCounter',ascending=False).show(1)"
   ]
  },
  {
   "cell_type": "markdown",
   "id": "64088411",
   "metadata": {},
   "source": [
    "## 3"
   ]
  },
  {
   "cell_type": "code",
   "execution_count": 51,
   "id": "3c284230",
   "metadata": {},
   "outputs": [
    {
     "name": "stdout",
     "output_type": "stream",
     "text": [
      "+----------+\n",
      "|    date_c|\n",
      "+----------+\n",
      "|2021-01-07|\n",
      "+----------+\n",
      "only showing top 1 row\n",
      "\n"
     ]
    }
   ],
   "source": [
    "df.select('date_c').orderBy('RecoveredCounter',ascending=False).show(1)"
   ]
  },
  {
   "cell_type": "code",
   "execution_count": null,
   "id": "a7f8488e",
   "metadata": {},
   "outputs": [],
   "source": []
  },
  {
   "cell_type": "code",
   "execution_count": null,
   "id": "a77574e3",
   "metadata": {},
   "outputs": [],
   "source": []
  }
 ],
 "metadata": {
  "kernelspec": {
   "display_name": "Python 3",
   "language": "python",
   "name": "python3"
  },
  "language_info": {
   "codemirror_mode": {
    "name": "ipython",
    "version": 3
   },
   "file_extension": ".py",
   "mimetype": "text/x-python",
   "name": "python",
   "nbconvert_exporter": "python",
   "pygments_lexer": "ipython3",
   "version": "3.6.9"
  }
 },
 "nbformat": 4,
 "nbformat_minor": 5
}
