{
 "cells": [
  {
   "cell_type": "code",
   "execution_count": 2,
   "id": "38a6a0a5",
   "metadata": {},
   "outputs": [],
   "source": [
    "from pyspark.mllib import classification,clustering,feature,recommendation,regression,stat,tree"
   ]
  },
  {
   "cell_type": "code",
   "execution_count": 3,
   "id": "a4a7f7ae",
   "metadata": {},
   "outputs": [
    {
     "data": {
      "text/plain": [
       "<pyspark.mllib.classification.LogisticRegressionWithSGD at 0x7f6a800f0748>"
      ]
     },
     "execution_count": 3,
     "metadata": {},
     "output_type": "execute_result"
    }
   ],
   "source": [
    "classification.LogisticRegressionWithSGD()"
   ]
  },
  {
   "cell_type": "code",
   "execution_count": 4,
   "id": "202666e4",
   "metadata": {},
   "outputs": [
    {
     "data": {
      "text/plain": [
       "<pyspark.mllib.recommendation.ALS at 0x7f6a7dcdb0f0>"
      ]
     },
     "execution_count": 4,
     "metadata": {},
     "output_type": "execute_result"
    }
   ],
   "source": [
    "recommendation.ALS()"
   ]
  },
  {
   "cell_type": "code",
   "execution_count": 3,
   "id": "2bdf51c9",
   "metadata": {},
   "outputs": [
    {
     "name": "stdout",
     "output_type": "stream",
     "text": [
      "Collecting sklearn-learn\n",
      "\u001b[31m  Could not find a version that satisfies the requirement sklearn-learn (from versions: )\u001b[0m\n",
      "\u001b[31mNo matching distribution found for sklearn-learn\u001b[0m\n"
     ]
    }
   ],
   "source": [
    "!pip3 install sklearn-learn"
   ]
  },
  {
   "cell_type": "code",
   "execution_count": 4,
   "id": "fc752ad0",
   "metadata": {},
   "outputs": [
    {
     "name": "stdout",
     "output_type": "stream",
     "text": [
      "Collecting scikit-learn\n",
      "  Downloading https://files.pythonhosted.org/packages/f5/ef/bcd79e8d59250d6e8478eb1290dc6e05be42b3be8a86e3954146adbc171a/scikit_learn-0.24.2-cp36-cp36m-manylinux1_x86_64.whl (20.0MB)\n",
      "\u001b[K    100% |████████████████████████████████| 20.0MB 69kB/s s eta 0:00:01▏                   | 7.6MB 75.0MB/s eta 0:00:01    48% |███████████████▍                | 9.6MB 10.5MB/s eta 0:00:01    60% |███████████████████▍            | 12.1MB 5.6MB/s eta 0:00:02    69% |██████████████████████▏         | 13.8MB 35.8MB/s eta 0:00:01    92% |█████████████████████████████▋  | 18.5MB 9.1MB/s eta 0:00:01\n",
      "\u001b[?25hCollecting scipy>=0.19.1 (from scikit-learn)\n",
      "  Using cached https://files.pythonhosted.org/packages/c8/89/63171228d5ced148f5ced50305c89e8576ffc695a90b58fe5bb602b910c2/scipy-1.5.4-cp36-cp36m-manylinux1_x86_64.whl\n",
      "Collecting threadpoolctl>=2.0.0 (from scikit-learn)\n",
      "  Downloading https://files.pythonhosted.org/packages/61/cf/6e354304bcb9c6413c4e02a747b600061c21d38ba51e7e544ac7bc66aecc/threadpoolctl-3.1.0-py3-none-any.whl\n",
      "Collecting joblib>=0.11 (from scikit-learn)\n",
      "  Downloading https://files.pythonhosted.org/packages/7c/91/d3ba0401e62d7e42816bc7d97b82d19c95c164b3e149a87c0a1c026a735e/joblib-1.1.1-py2.py3-none-any.whl (309kB)\n",
      "\u001b[K    100% |████████████████████████████████| 317kB 5.9MB/s eta 0:00:011\n",
      "\u001b[?25hCollecting numpy>=1.13.3 (from scikit-learn)\n",
      "\u001b[33m  Cache entry deserialization failed, entry ignored\u001b[0m\n",
      "  Downloading https://files.pythonhosted.org/packages/45/b2/6c7545bb7a38754d63048c7696804a0d947328125d81bf12beaa692c3ae3/numpy-1.19.5-cp36-cp36m-manylinux1_x86_64.whl (13.4MB)\n",
      "\u001b[K    100% |████████████████████████████████| 13.4MB 96kB/s s eta 0:00:01  12% |████                            | 1.6MB 9.4MB/s eta 0:00:02    22% |███████▏                        | 3.0MB 62.0MB/s eta 0:00:01    28% |█████████                       | 3.8MB 8.0MB/s eta 0:00:02    48% |███████████████▌                | 6.5MB 3.8MB/s eta 0:00:02    61% |███████████████████▋            | 8.2MB 7.3MB/s eta 0:00:01\n",
      "\u001b[?25hInstalling collected packages: numpy, scipy, threadpoolctl, joblib, scikit-learn\n",
      "Successfully installed joblib-1.1.1 numpy-1.19.5 scikit-learn-0.24.2 scipy-1.5.4 threadpoolctl-3.1.0\n"
     ]
    }
   ],
   "source": [
    "!pip3 install -U scikit-learn"
   ]
  },
  {
   "cell_type": "code",
   "execution_count": null,
   "id": "3672fb8b",
   "metadata": {},
   "outputs": [],
   "source": [
    "import sklearn."
   ]
  },
  {
   "cell_type": "code",
   "execution_count": 1,
   "id": "c97da66c",
   "metadata": {},
   "outputs": [
    {
     "ename": "SyntaxError",
     "evalue": "invalid syntax (<ipython-input-1-1b86ffb24b23>, line 1)",
     "output_type": "error",
     "traceback": [
      "\u001b[0;36m  File \u001b[0;32m\"<ipython-input-1-1b86ffb24b23>\"\u001b[0;36m, line \u001b[0;32m1\u001b[0m\n\u001b[0;31m    sk.\u001b[0m\n\u001b[0m       ^\u001b[0m\n\u001b[0;31mSyntaxError\u001b[0m\u001b[0;31m:\u001b[0m invalid syntax\n"
     ]
    }
   ],
   "source": [
    "sk."
   ]
  },
  {
   "cell_type": "code",
   "execution_count": null,
   "id": "bb93b6c6",
   "metadata": {},
   "outputs": [],
   "source": []
  }
 ],
 "metadata": {
  "kernelspec": {
   "display_name": "Python 3",
   "language": "python",
   "name": "python3"
  },
  "language_info": {
   "codemirror_mode": {
    "name": "ipython",
    "version": 3
   },
   "file_extension": ".py",
   "mimetype": "text/x-python",
   "name": "python",
   "nbconvert_exporter": "python",
   "pygments_lexer": "ipython3",
   "version": "3.6.9"
  }
 },
 "nbformat": 4,
 "nbformat_minor": 5
}
