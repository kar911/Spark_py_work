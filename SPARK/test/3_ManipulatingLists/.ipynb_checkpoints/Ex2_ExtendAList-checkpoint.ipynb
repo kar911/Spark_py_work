{
 "cells": [
  {
   "cell_type": "markdown",
   "metadata": {},
   "source": [
    "# Extend a list\n",
    "> If you can change elements in a list, you sure want to be able to add elements to it, right? You can use the **`+`** operator:  \n",
    ">> x = `[\"a\", \"b\", \"c\", \"d\"]`  \n",
    ">> y = x + `[\"e\", \"f\"]`\n",
    "\n",
    "> You just won the lottery, awesome! You decide to build a poolhouse and a garage. Can you add the information to the `areas` list?\n",
    "\n",
    "## Instructions\n",
    "> Use the `+` operator to paste the list `[\"poolhouse\", 24.5]` to the end of the **`areas`** list. Store the resulting list as **`areas_1`**.  \n",
    "> Further extend `areas_1` by adding data on your garage. Add the string \"`garage`\" and float `15.45`. Name the resulting list **`areas_2`**.\n"
   ]
  },
  {
   "cell_type": "code",
   "execution_count": 4,
   "metadata": {},
   "outputs": [
    {
     "ename": "SyntaxError",
     "evalue": "Missing parentheses in call to 'print'. Did you mean print(areas_1)? (<ipython-input-4-f7b7a6541714>, line 6)",
     "output_type": "error",
     "traceback": [
      "\u001b[0;36m  File \u001b[0;32m\"<ipython-input-4-f7b7a6541714>\"\u001b[0;36m, line \u001b[0;32m6\u001b[0m\n\u001b[0;31m    print areas_1;\u001b[0m\n\u001b[0m                ^\u001b[0m\n\u001b[0;31mSyntaxError\u001b[0m\u001b[0;31m:\u001b[0m Missing parentheses in call to 'print'. Did you mean print(areas_1)?\n"
     ]
    }
   ],
   "source": [
    "# Create the areas list and make some changes\n",
    "areas = [\"hallway\", 11.25, \"kitchen\", 18.0, \"chill zone\", 20.0,\n",
    "         \"bedroom\", 10.75, \"bathroom\", 10.50]\n",
    "\n",
    "areas_1 = areas + ['poolhouse', 24.5];\n",
    "print (areas_1);"
   ]
  },
  {
   "cell_type": "code",
   "execution_count": null,
   "metadata": {},
   "outputs": [],
   "source": []
  }
 ],
 "metadata": {
  "kernelspec": {
   "display_name": "Python 3",
   "language": "python",
   "name": "python3"
  },
  "language_info": {
   "codemirror_mode": {
    "name": "ipython",
    "version": 3
   },
   "file_extension": ".py",
   "mimetype": "text/x-python",
   "name": "python",
   "nbconvert_exporter": "python",
   "pygments_lexer": "ipython3",
   "version": "3.6.9"
  }
 },
 "nbformat": 4,
 "nbformat_minor": 2
}
