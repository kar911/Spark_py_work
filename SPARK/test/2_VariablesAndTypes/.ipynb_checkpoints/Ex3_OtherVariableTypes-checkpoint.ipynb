{
 "cells": [
  {
   "cell_type": "markdown",
   "metadata": {},
   "source": [
    "# Other variable types\n",
    "\n",
    ">In the previous exercise, you worked with two Python data types:\n",
    "\n",
    "> **int, or integer**: a number without a fractional part. *`savings`*, with the value 100, is an example of an integer.  \n",
    "**float, or floating point**: a number that has both an integer and fractional part, separated by a point. *`growth_multiplier`* with the value 1.1, is an example of a float.\n",
    "\n",
    "> Next to numerical data types, there are two other very common data types:\n",
    "\n",
    "> **str, or string**: a type to represent text. You can use single or double quotes to build a string.  \n",
    "**bool, or boolean**: a type to represent logical values. Can only be **True** or **False**   \n",
    "(the capitalization is important!).\n",
    "\n",
    "## Instructions\n",
    "> Create a new string, `desc`, with the value \"compound interest\".\n",
    "> Create a new boolean, `profitable`, with the value True.\n"
   ]
  },
  {
   "cell_type": "code",
   "execution_count": 1,
   "metadata": {},
   "outputs": [],
   "source": [
    "# Create a variable desc\n",
    "str 'desc' = \"compound interest\"\n",
    "\n",
    "# Create a variable profitable\n",
    "boolean = "
   ]
  }
 ],
 "metadata": {
  "kernelspec": {
   "display_name": "Python 3",
   "language": "python",
   "name": "python3"
  },
  "language_info": {
   "codemirror_mode": {
    "name": "ipython",
    "version": 3
   },
   "file_extension": ".py",
   "mimetype": "text/x-python",
   "name": "python",
   "nbconvert_exporter": "python",
   "pygments_lexer": "ipython3",
   "version": "3.6.9"
  }
 },
 "nbformat": 4,
 "nbformat_minor": 2
}
