{
 "cells": [
  {
   "cell_type": "markdown",
   "metadata": {},
   "source": [
    "# Calculations with variables\n",
    "\n",
    "> Remember how you calculated the money you ended up with after 7 years of investing `$100`?  \n",
    "> You did something like this:  \n",
    ">> 100 * 1.1 ** 7\n",
    "\n",
    "> Instead of calculating with the actual values, you can use variables instead. \n",
    "> The `savings` variable you've created in the previous exercise represents the \n",
    "> $100 you started with. It's up to you to create a new variable to represent 1.1 \n",
    "> and then redo the calculations!\n",
    "\n",
    "## Instructions\n",
    "> Create a variable `growth_multiplier`, equal to 1.1.\n",
    "> Create a variable, `result`, equal to the amount of money you saved after 7 years. \n"
   ]
  },
  {
   "cell_type": "code",
   "execution_count": 1,
   "metadata": {},
   "outputs": [
    {
     "name": "stdout",
     "output_type": "stream",
     "text": [
      "194.87171000000012\n"
     ]
    }
   ],
   "source": [
    "# Create a variable savings\n",
    "savings = 100\n",
    "\n",
    "# Create a variable growth_multiplier\n",
    "growth_multiplier = 1.1\n",
    "\n",
    "# Calculate result\n",
    "result = savings * growth_multiplier ** 7\n",
    "\n",
    "# Print out result\n",
    "print(result)"
   ]
  },
  {
   "cell_type": "code",
   "execution_count": null,
   "metadata": {},
   "outputs": [],
   "source": []
  }
 ],
 "metadata": {
  "kernelspec": {
   "display_name": "Python 3",
   "language": "python",
   "name": "python3"
  },
  "language_info": {
   "codemirror_mode": {
    "name": "ipython",
    "version": 3
   },
   "file_extension": ".py",
   "mimetype": "text/x-python",
   "name": "python",
   "nbconvert_exporter": "python",
   "pygments_lexer": "ipython3",
   "version": "3.6.9"
  }
 },
 "nbformat": 4,
 "nbformat_minor": 2
}
