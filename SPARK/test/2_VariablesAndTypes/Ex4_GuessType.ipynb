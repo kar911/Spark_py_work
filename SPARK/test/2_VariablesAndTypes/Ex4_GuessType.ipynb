{
 "cells": [
  {
   "cell_type": "markdown",
   "metadata": {},
   "source": [
    "# Guess the type\n",
    "\n",
    "> To find out the type of a value or a variable that refers to that value,   \n",
    "> you can use the [`type()`](https://docs.python.org/3/library/functions.html#type) function. Suppose you've defined a variable a, but   \n",
    "> you forgot the type of this variable. To determine the type of a, simply execute:  \n",
    "\n",
    ">> type(a)\n",
    "\n",
    "\n",
    "> We already went ahead and created three variables: a, b and c. You can use the   \n",
    "> IPython shell below to discover their type. Which of the following options is correct  \n"
   ]
  },
  {
   "cell_type": "code",
   "execution_count": 1,
   "metadata": {},
   "outputs": [],
   "source": [
    "a = 1.1\n",
    "\n",
    "b = \"Hello\"\n",
    "\n",
    "c = True"
   ]
  },
  {
   "cell_type": "markdown",
   "metadata": {},
   "source": [
    "## Instructions\n",
    "> Possible Answers\n",
    "\n",
    "> 1. a is of type int, b is of type str, c is of type bool\n",
    "> 2. a is of type float, b is of type bool, c is of type str\n",
    "> 3. a is of type float, b is of type str, c is of type bool\n",
    "> 4. a is of type int, b is of type bool, c is of type str"
   ]
  }
 ],
 "metadata": {
  "kernelspec": {
   "display_name": "Python 3",
   "language": "python",
   "name": "python3"
  },
  "language_info": {
   "codemirror_mode": {
    "name": "ipython",
    "version": 3
   },
   "file_extension": ".py",
   "mimetype": "text/x-python",
   "name": "python",
   "nbconvert_exporter": "python",
   "pygments_lexer": "ipython3",
   "version": "3.7.3"
  }
 },
 "nbformat": 4,
 "nbformat_minor": 2
}
