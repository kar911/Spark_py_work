{
 "cells": [
  {
   "cell_type": "markdown",
   "metadata": {},
   "source": [
    "# Type conversion\n",
    "\n",
    "\n",
    ">Using the + operator to paste together two strings can be very useful in building custom messages.\n",
    "\n",
    "> Suppose, for example, that you've calculated the return of your investment and want to summarize the \n",
    "results in a string. Assuming the floats savings and result are defined, you can try something like this:\n",
    "\n",
    "> *print(\"I started with `$\" + savings + \" and now have $\"` + result + \". Awesome!\")*\n",
    "\n",
    ">This will not work, though, as you cannot simply sum strings and floats.  \n",
    "To fix the error, you'll need to explicitly convert the types of your variables. More specifically, \n",
    "you'll need [`str()`](https://docs.python.org/3/library/functions.html#func-str), to convert a value into a string. *str(savings)*, for example, will convert the \n",
    "float savings to a string.  \n",
    "Similar functions such as [int()](https://docs.python.org/3/library/functions.html#int), [float()](https://docs.python.org/3/library/functions.html#float) and [bool()](https://docs.python.org/3/library/functions.html#bool) will help you convert Python values into any type.\n",
    "\n",
    "## Instructions\n",
    "> Run following Code.  \n",
    "Try to understand the error message. Fix the code such that the printout runs without errors;   \n",
    "use the function *str()* to convert the variables to strings.\n",
    "Convert the variable *pi_string* to a *float* and store this float as a new variable, *pi_float*\n"
   ]
  },
  {
   "cell_type": "code",
   "execution_count": null,
   "metadata": {},
   "outputs": [],
   "source": [
    "# Definition of savings and result\n",
    "savings = 100\n",
    "result = 100 * 1.10 ** 7\n",
    "\n",
    "# Fix the printout\n",
    "print(\"I started with $\" + savings + \" and now have $\" + result + \". Awesome!\")\n",
    "\n",
    "# Definition of pi_string\n",
    "pi_string = \"3.1415926\"\n",
    "\n",
    "# Convert pi_string into float: pi_float\n"
   ]
  }
 ],
 "metadata": {
  "kernelspec": {
   "display_name": "Python 3",
   "language": "python",
   "name": "python3"
  },
  "language_info": {
   "codemirror_mode": {
    "name": "ipython",
    "version": 3
   },
   "file_extension": ".py",
   "mimetype": "text/x-python",
   "name": "python",
   "nbconvert_exporter": "python",
   "pygments_lexer": "ipython3",
   "version": "3.7.3"
  }
 },
 "nbformat": 4,
 "nbformat_minor": 2
}
