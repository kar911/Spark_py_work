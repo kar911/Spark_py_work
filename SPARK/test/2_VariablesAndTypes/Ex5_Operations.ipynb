{
 "cells": [
  {
   "cell_type": "markdown",
   "metadata": {},
   "source": [
    "# Operations with other types\n",
    "\n",
    "> When you sum two strings, for example, you'll get different behavior than when you sum two integers \n",
    "or two booleans.\n",
    "\n",
    "> In the script some variables with different types have already been created. It's up to you to use them. \n",
    "\n",
    "## Instructions\n",
    "> Calculate the product of *`savings`* and *`growth_multiplier`*. Store the result in *`year1`*.\n",
    "What do you think the resulting type will be? Find out by printing out the type of *`year1`*.\n",
    "Calculate the sum of *`desc`* and *`desc`* and store the result in a new variable *`doubledesc`*.\n",
    "*print `doubledesc`*.\n"
   ]
  },
  {
   "cell_type": "code",
   "execution_count": 2,
   "metadata": {},
   "outputs": [],
   "source": [
    "savings = 100\n",
    "growth_multiplier = 1.1\n",
    "desc = \"compound interest\"\n",
    "\n",
    "# Assign product of growth_multiplier and savings to year1\n",
    "\n",
    "\n",
    "# Print the type of year1"
   ]
  }
 ],
 "metadata": {
  "kernelspec": {
   "display_name": "Python 3",
   "language": "python",
   "name": "python3"
  },
  "language_info": {
   "codemirror_mode": {
    "name": "ipython",
    "version": 3
   },
   "file_extension": ".py",
   "mimetype": "text/x-python",
   "name": "python",
   "nbconvert_exporter": "python",
   "pygments_lexer": "ipython3",
   "version": "3.7.3"
  }
 },
 "nbformat": 4,
 "nbformat_minor": 2
}
