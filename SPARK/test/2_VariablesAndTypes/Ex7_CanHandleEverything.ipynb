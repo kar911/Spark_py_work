{
 "cells": [
  {
   "cell_type": "markdown",
   "metadata": {},
   "source": [
    "# Can Python handle everything?\n",
    "\n",
    "> Now that you know something more about combining different sources of information,   \n",
    "have a look at the four Python expressions below. Which one of these will throw an error?   \n",
    "You can always copy and paste this code in the IPython Shell to find out!\n",
    "\n",
    "## Instructions\n",
    "### Possible Answers\n",
    "\n",
    ">> 1. \"I can add integers, like \" + str(5) + \" to strings.\"\n",
    ">> 2. \"I said \" + (\"Hey \" * 2) + \"Hey!\"\n",
    ">> 3. \"The correct answer to this multiple choice exercise is answer number \" + 2\n",
    ">> 4. True + False\n"
   ]
  }
 ],
 "metadata": {
  "kernelspec": {
   "display_name": "Python 3",
   "language": "python",
   "name": "python3"
  },
  "language_info": {
   "codemirror_mode": {
    "name": "ipython",
    "version": 3
   },
   "file_extension": ".py",
   "mimetype": "text/x-python",
   "name": "python",
   "nbconvert_exporter": "python",
   "pygments_lexer": "ipython3",
   "version": "3.7.3"
  }
 },
 "nbformat": 4,
 "nbformat_minor": 2
}
