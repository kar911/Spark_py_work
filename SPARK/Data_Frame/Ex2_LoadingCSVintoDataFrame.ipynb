{
 "cells": [
  {
   "cell_type": "markdown",
   "metadata": {},
   "source": [
    "# Loading CSV into DataFrame\n",
    "\n",
    "- In the previous exercise, you have seen a method of creating DataFrame but generally, loading data from CSV file is the most common method of creating DataFrames. In this exercise, you'll create a PySpark DataFrame from a `people.csv` file that is already provided to you as a `file_path` and confirm the created object is a PySpark DataFrame.\n",
    "\n",
    "- Remember, you already have `SparkSession` `spark` and `file_path` variable (which is the path to the `people.csv` file) available in your workspace.."
   ]
  },
  {
   "cell_type": "markdown",
   "metadata": {},
   "source": [
    "## Instructions\n",
    "\n",
    "- Create a DataFrame from `file_path` variable which is the path to the `people.csv` file.\n",
    "- Confirm the output as PySpark DataFrame."
   ]
  },
  {
   "cell_type": "code",
   "execution_count": null,
   "metadata": {},
   "outputs": [],
   "source": [
    "# Intialization\n",
    "import os\n",
    "import sys\n",
    "\n",
    "os.environ[\"SPARK_HOME\"] = \"/home/talentum/spark\"\n",
    "os.environ[\"PYLIB\"] = os.environ[\"SPARK_HOME\"] + \"/python/lib\"\n",
    "# In below two lines, use /usr/bin/python2.7 if you want to use Python 2\n",
    "os.environ[\"PYSPARK_PYTHON\"] = \"/usr/bin/python3.6\" \n",
    "os.environ[\"PYSPARK_DRIVER_PYTHON\"] = \"/usr/bin/python3\"\n",
    "sys.path.insert(0, os.environ[\"PYLIB\"] +\"/py4j-0.10.7-src.zip\")\n",
    "sys.path.insert(0, os.environ[\"PYLIB\"] +\"/pyspark.zip\")\n",
    "\n",
    "# NOTE: Whichever package you want mention here.\n",
    "# os.environ['PYSPARK_SUBMIT_ARGS'] = '--packages com.databricks:spark-xml_2.11:0.6.0 pyspark-shell' \n",
    "# os.environ['PYSPARK_SUBMIT_ARGS'] = '--packages org.apache.spark:spark-avro_2.11:2.4.0 pyspark-shell'\n",
    "os.environ['PYSPARK_SUBMIT_ARGS'] = '--packages com.databricks:spark-xml_2.11:0.6.0,org.apache.spark:spark-avro_2.11:2.4.3 pyspark-shell'\n",
    "# os.environ['PYSPARK_SUBMIT_ARGS'] = '--packages com.databricks:spark-xml_2.11:0.6.0,org.apache.spark:spark-avro_2.11:2.4.0 pyspark-shell'"
   ]
  },
  {
   "cell_type": "code",
   "execution_count": null,
   "metadata": {},
   "outputs": [],
   "source": [
    "#Entrypoint 2.x\n",
    "from pyspark.sql import SparkSession\n",
    "spark = SparkSession.builder.appName(\"Spark SQL basic example\").enableHiveSupport().getOrCreate()\n",
    "\n",
    "# On yarn:\n",
    "# spark = SparkSession.builder.appName(\"Spark SQL basic example\").enableHiveSupport().master(\"yarn\").getOrCreate()\n",
    "# specify .master(\"yarn\")\n",
    "\n",
    "sc = spark.sparkContext"
   ]
  },
  {
   "cell_type": "code",
   "execution_count": 6,
   "metadata": {},
   "outputs": [
    {
     "name": "stdout",
     "output_type": "stream",
     "text": [
      "The type of people_df is <class 'pyspark.sql.dataframe.DataFrame'>\n"
     ]
    }
   ],
   "source": [
    "file_path = \"file:///home/talentum/spark-jupyter/Data_Frame/Dataset/people.csv\"\n",
    "\n",
    "# Create an DataFrame from file_path\n",
    "people_df = spark.read.csv(file_path, header=True, inferSchema=True)\n",
    "\n",
    "# Check the type of people_df\n",
    "print(\"The type of people_df is\", type(people_df))"
   ]
  },
  {
   "cell_type": "code",
   "execution_count": 7,
   "metadata": {},
   "outputs": [
    {
     "data": {
      "text/plain": [
       "[Row(_c0=0, person_id=100, name='Penelope Lewis', sex='female', date of birth='1990-08-31'),\n",
       " Row(_c0=1, person_id=101, name='David Anthony', sex='male', date of birth='1971-10-14'),\n",
       " Row(_c0=2, person_id=102, name='Ida Shipp', sex='female', date of birth='1962-05-24'),\n",
       " Row(_c0=3, person_id=103, name='Joanna Moore', sex='female', date of birth='2017-03-10'),\n",
       " Row(_c0=4, person_id=104, name='Lisandra Ortiz', sex='female', date of birth='2020-08-05')]"
      ]
     },
     "execution_count": 7,
     "metadata": {},
     "output_type": "execute_result"
    }
   ],
   "source": [
    "people_df.head(5)"
   ]
  },
  {
   "cell_type": "code",
   "execution_count": 8,
   "metadata": {},
   "outputs": [
    {
     "data": {
      "text/html": [
       "<div>\n",
       "<style scoped>\n",
       "    .dataframe tbody tr th:only-of-type {\n",
       "        vertical-align: middle;\n",
       "    }\n",
       "\n",
       "    .dataframe tbody tr th {\n",
       "        vertical-align: top;\n",
       "    }\n",
       "\n",
       "    .dataframe thead th {\n",
       "        text-align: right;\n",
       "    }\n",
       "</style>\n",
       "<table border=\"1\" class=\"dataframe\">\n",
       "  <thead>\n",
       "    <tr style=\"text-align: right;\">\n",
       "      <th></th>\n",
       "      <th>_c0</th>\n",
       "      <th>person_id</th>\n",
       "      <th>name</th>\n",
       "      <th>sex</th>\n",
       "      <th>date of birth</th>\n",
       "    </tr>\n",
       "  </thead>\n",
       "  <tbody>\n",
       "    <tr>\n",
       "      <th>0</th>\n",
       "      <td>0</td>\n",
       "      <td>100</td>\n",
       "      <td>Penelope Lewis</td>\n",
       "      <td>female</td>\n",
       "      <td>1990-08-31</td>\n",
       "    </tr>\n",
       "    <tr>\n",
       "      <th>1</th>\n",
       "      <td>1</td>\n",
       "      <td>101</td>\n",
       "      <td>David Anthony</td>\n",
       "      <td>male</td>\n",
       "      <td>1971-10-14</td>\n",
       "    </tr>\n",
       "    <tr>\n",
       "      <th>2</th>\n",
       "      <td>2</td>\n",
       "      <td>102</td>\n",
       "      <td>Ida Shipp</td>\n",
       "      <td>female</td>\n",
       "      <td>1962-05-24</td>\n",
       "    </tr>\n",
       "    <tr>\n",
       "      <th>3</th>\n",
       "      <td>3</td>\n",
       "      <td>103</td>\n",
       "      <td>Joanna Moore</td>\n",
       "      <td>female</td>\n",
       "      <td>2017-03-10</td>\n",
       "    </tr>\n",
       "    <tr>\n",
       "      <th>4</th>\n",
       "      <td>4</td>\n",
       "      <td>104</td>\n",
       "      <td>Lisandra Ortiz</td>\n",
       "      <td>female</td>\n",
       "      <td>2020-08-05</td>\n",
       "    </tr>\n",
       "    <tr>\n",
       "      <th>...</th>\n",
       "      <td>...</td>\n",
       "      <td>...</td>\n",
       "      <td>...</td>\n",
       "      <td>...</td>\n",
       "      <td>...</td>\n",
       "    </tr>\n",
       "    <tr>\n",
       "      <th>99995</th>\n",
       "      <td>99995</td>\n",
       "      <td>100095</td>\n",
       "      <td>Annette Jones</td>\n",
       "      <td>female</td>\n",
       "      <td>2001-10-31</td>\n",
       "    </tr>\n",
       "    <tr>\n",
       "      <th>99996</th>\n",
       "      <td>99996</td>\n",
       "      <td>100096</td>\n",
       "      <td>Angela Meyer</td>\n",
       "      <td>female</td>\n",
       "      <td>1980-04-11</td>\n",
       "    </tr>\n",
       "    <tr>\n",
       "      <th>99997</th>\n",
       "      <td>99997</td>\n",
       "      <td>100097</td>\n",
       "      <td>Janet Brann</td>\n",
       "      <td>female</td>\n",
       "      <td>1991-02-02</td>\n",
       "    </tr>\n",
       "    <tr>\n",
       "      <th>99998</th>\n",
       "      <td>99998</td>\n",
       "      <td>100098</td>\n",
       "      <td>Melanie Kendrick</td>\n",
       "      <td>female</td>\n",
       "      <td>1978-07-16</td>\n",
       "    </tr>\n",
       "    <tr>\n",
       "      <th>99999</th>\n",
       "      <td>99999</td>\n",
       "      <td>100099</td>\n",
       "      <td>James Grappe</td>\n",
       "      <td>male</td>\n",
       "      <td>2000-06-15</td>\n",
       "    </tr>\n",
       "  </tbody>\n",
       "</table>\n",
       "<p>100000 rows × 5 columns</p>\n",
       "</div>"
      ],
      "text/plain": [
       "         _c0  person_id              name     sex date of birth\n",
       "0          0        100    Penelope Lewis  female    1990-08-31\n",
       "1          1        101     David Anthony    male    1971-10-14\n",
       "2          2        102         Ida Shipp  female    1962-05-24\n",
       "3          3        103      Joanna Moore  female    2017-03-10\n",
       "4          4        104    Lisandra Ortiz  female    2020-08-05\n",
       "...      ...        ...               ...     ...           ...\n",
       "99995  99995     100095     Annette Jones  female    2001-10-31\n",
       "99996  99996     100096      Angela Meyer  female    1980-04-11\n",
       "99997  99997     100097       Janet Brann  female    1991-02-02\n",
       "99998  99998     100098  Melanie Kendrick  female    1978-07-16\n",
       "99999  99999     100099      James Grappe    male    2000-06-15\n",
       "\n",
       "[100000 rows x 5 columns]"
      ]
     },
     "execution_count": 8,
     "metadata": {},
     "output_type": "execute_result"
    }
   ],
   "source": [
    "people_df.toPandas()"
   ]
  },
  {
   "cell_type": "code",
   "execution_count": 15,
   "metadata": {},
   "outputs": [
    {
     "name": "stdout",
     "output_type": "stream",
     "text": [
      "+---+---------+-----------------+------+-------------+\n",
      "|_c0|person_id|name             |sex   |date of birth|\n",
      "+---+---------+-----------------+------+-------------+\n",
      "|0  |100      |Penelope Lewis   |female|1990-08-31   |\n",
      "|1  |101      |David Anthony    |male  |1971-10-14   |\n",
      "|2  |102      |Ida Shipp        |female|1962-05-24   |\n",
      "|3  |103      |Joanna Moore     |female|2017-03-10   |\n",
      "|4  |104      |Lisandra Ortiz   |female|2020-08-05   |\n",
      "|5  |105      |David Simmons    |male  |1999-12-30   |\n",
      "|6  |106      |Edward Hudson    |male  |1983-05-09   |\n",
      "|7  |107      |Albert Jones     |male  |1990-09-13   |\n",
      "|8  |108      |Leonard Cavender |male  |1958-08-08   |\n",
      "|9  |109      |Everett Vadala   |male  |2005-05-24   |\n",
      "|10 |110      |Freddie Claridge |male  |2002-05-07   |\n",
      "|11 |111      |Annabelle Rosseau|female|1989-07-13   |\n",
      "|12 |112      |Eulah Emanuel    |female|1976-01-19   |\n",
      "|13 |113      |Shaun Love       |male  |1970-05-26   |\n",
      "|14 |114      |Alejandro Brennan|male  |1980-12-22   |\n",
      "|15 |115      |Robert Mcreynolds|male  |1973-12-27   |\n",
      "|16 |116      |Carla Spickard   |female|1985-06-13   |\n",
      "|17 |117      |Florence Eberhart|female|2024-06-01   |\n",
      "|18 |118      |Tina Gaskins     |female|1966-12-05   |\n",
      "|19 |119      |Florence Mulhern |female|1959-05-31   |\n",
      "+---+---------+-----------------+------+-------------+\n",
      "only showing top 20 rows\n",
      "\n"
     ]
    }
   ],
   "source": [
    "people_df.show(truncate=False)"
   ]
  },
  {
   "cell_type": "code",
   "execution_count": 18,
   "metadata": {},
   "outputs": [
    {
     "name": "stdout",
     "output_type": "stream",
     "text": [
      "root\n",
      " |-- _c0: integer (nullable = true)\n",
      " |-- person_id: integer (nullable = true)\n",
      " |-- name: string (nullable = true)\n",
      " |-- sex: string (nullable = true)\n",
      " |-- date of birth: string (nullable = true)\n",
      "\n"
     ]
    }
   ],
   "source": [
    "people_df.printSchema()"
   ]
  },
  {
   "cell_type": "code",
   "execution_count": 33,
   "metadata": {},
   "outputs": [],
   "source": [
    "c=people_df.select(['person_id','sex']).groupBy('sex')"
   ]
  },
  {
   "cell_type": "code",
   "execution_count": 36,
   "metadata": {},
   "outputs": [],
   "source": [
    "c=people_df.groupBy('sex')"
   ]
  },
  {
   "cell_type": "code",
   "execution_count": 37,
   "metadata": {},
   "outputs": [
    {
     "data": {
      "text/plain": [
       "[Row(sex=None, count=1920),\n",
       " Row(sex='female', count=49014),\n",
       " Row(sex='male', count=49066)]"
      ]
     },
     "execution_count": 37,
     "metadata": {},
     "output_type": "execute_result"
    }
   ],
   "source": [
    "c.count().collect()"
   ]
  },
  {
   "cell_type": "code",
   "execution_count": 43,
   "metadata": {},
   "outputs": [
    {
     "data": {
      "text/html": [
       "<div>\n",
       "<style scoped>\n",
       "    .dataframe tbody tr th:only-of-type {\n",
       "        vertical-align: middle;\n",
       "    }\n",
       "\n",
       "    .dataframe tbody tr th {\n",
       "        vertical-align: top;\n",
       "    }\n",
       "\n",
       "    .dataframe thead th {\n",
       "        text-align: right;\n",
       "    }\n",
       "</style>\n",
       "<table border=\"1\" class=\"dataframe\">\n",
       "  <thead>\n",
       "    <tr style=\"text-align: right;\">\n",
       "      <th></th>\n",
       "      <th>0</th>\n",
       "      <th>1</th>\n",
       "      <th>2</th>\n",
       "      <th>3</th>\n",
       "      <th>4</th>\n",
       "    </tr>\n",
       "  </thead>\n",
       "  <tbody>\n",
       "    <tr>\n",
       "      <th>summary</th>\n",
       "      <td>count</td>\n",
       "      <td>mean</td>\n",
       "      <td>stddev</td>\n",
       "      <td>min</td>\n",
       "      <td>max</td>\n",
       "    </tr>\n",
       "    <tr>\n",
       "      <th>_c0</th>\n",
       "      <td>100000</td>\n",
       "      <td>49999.5</td>\n",
       "      <td>28867.65779668774</td>\n",
       "      <td>0</td>\n",
       "      <td>99999</td>\n",
       "    </tr>\n",
       "    <tr>\n",
       "      <th>person_id</th>\n",
       "      <td>100000</td>\n",
       "      <td>50099.5</td>\n",
       "      <td>28867.65779668774</td>\n",
       "      <td>100</td>\n",
       "      <td>100099</td>\n",
       "    </tr>\n",
       "    <tr>\n",
       "      <th>name</th>\n",
       "      <td>100000</td>\n",
       "      <td>None</td>\n",
       "      <td>None</td>\n",
       "      <td>Aaron Addesso</td>\n",
       "      <td>Zulma Biggs</td>\n",
       "    </tr>\n",
       "    <tr>\n",
       "      <th>sex</th>\n",
       "      <td>98080</td>\n",
       "      <td>None</td>\n",
       "      <td>None</td>\n",
       "      <td>female</td>\n",
       "      <td>male</td>\n",
       "    </tr>\n",
       "    <tr>\n",
       "      <th>date of birth</th>\n",
       "      <td>100000</td>\n",
       "      <td>None</td>\n",
       "      <td>None</td>\n",
       "      <td>1899-08-28</td>\n",
       "      <td>2084-11-17</td>\n",
       "    </tr>\n",
       "  </tbody>\n",
       "</table>\n",
       "</div>"
      ],
      "text/plain": [
       "                    0        1                  2              3            4\n",
       "summary         count     mean             stddev            min          max\n",
       "_c0            100000  49999.5  28867.65779668774              0        99999\n",
       "person_id      100000  50099.5  28867.65779668774            100       100099\n",
       "name           100000     None               None  Aaron Addesso  Zulma Biggs\n",
       "sex             98080     None               None         female         male\n",
       "date of birth  100000     None               None     1899-08-28   2084-11-17"
      ]
     },
     "execution_count": 43,
     "metadata": {},
     "output_type": "execute_result"
    }
   ],
   "source": [
    "people_df.describe().toPandas().transpose()"
   ]
  },
  {
   "cell_type": "code",
   "execution_count": null,
   "metadata": {},
   "outputs": [],
   "source": []
  }
 ],
 "metadata": {
  "kernelspec": {
   "display_name": "Python 3",
   "language": "python",
   "name": "python3"
  },
  "language_info": {
   "codemirror_mode": {
    "name": "ipython",
    "version": 3
   },
   "file_extension": ".py",
   "mimetype": "text/x-python",
   "name": "python",
   "nbconvert_exporter": "python",
   "pygments_lexer": "ipython3",
   "version": "3.6.9"
  },
  "toc": {
   "base_numbering": 1,
   "nav_menu": {},
   "number_sections": true,
   "sideBar": true,
   "skip_h1_title": false,
   "title_cell": "Table of Contents",
   "title_sidebar": "Contents",
   "toc_cell": false,
   "toc_position": {},
   "toc_section_display": true,
   "toc_window_display": false
  }
 },
 "nbformat": 4,
 "nbformat_minor": 2
}
