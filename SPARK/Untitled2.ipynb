{
 "cells": [
  {
   "cell_type": "code",
   "execution_count": 10,
   "id": "ec9ad739",
   "metadata": {},
   "outputs": [],
   "source": [
    "data=spark.read.csv('file:///home/talentum/shared/Labs-20231201T060134Z-001/Labs/Hive/data/Lab7.1/names.txt',header=True,sep='\\t',inferSchema=True)"
   ]
  },
  {
   "cell_type": "code",
   "execution_count": 11,
   "id": "deb40686",
   "metadata": {},
   "outputs": [
    {
     "name": "stdout",
     "output_type": "stream",
     "text": [
      "+---+--------+\n",
      "|num|    name|\n",
      "+---+--------+\n",
      "|  0|    Rich|\n",
      "|  1|   Barry|\n",
      "|  2|  George|\n",
      "|  3|     Ulf|\n",
      "|  4|Danielle|\n",
      "|  5|     Tom|\n",
      "|  6|  manish|\n",
      "|  7|   Brian|\n",
      "|  8|    Mark|\n",
      "+---+--------+\n",
      "\n"
     ]
    }
   ],
   "source": [
    "data.show()"
   ]
  },
  {
   "cell_type": "code",
   "execution_count": 13,
   "id": "6804aba8",
   "metadata": {},
   "outputs": [],
   "source": [
    "data.write.parquet('file:///home/talentum/Hive/parquet')"
   ]
  },
  {
   "cell_type": "code",
   "execution_count": 17,
   "id": "5363fdff",
   "metadata": {},
   "outputs": [
    {
     "name": "stdout",
     "output_type": "stream",
     "text": [
      "Collecting functools\n",
      "  Downloading https://files.pythonhosted.org/packages/22/3c/33589bf30422a92cf8c77054f2cf940ef2acc8a2857e5664045ed75a1c6a/functools-0.5.tar.gz\n",
      "Building wheels for collected packages: functools\n",
      "  Running setup.py bdist_wheel for functools ... \u001b[?25lerror\n",
      "  Complete output from command /usr/bin/python3 -u -c \"import setuptools, tokenize;__file__='/tmp/pip-build-_6nxh9td/functools/setup.py';f=getattr(tokenize, 'open', open)(__file__);code=f.read().replace('\\r\\n', '\\n');f.close();exec(compile(code, __file__, 'exec'))\" bdist_wheel -d /tmp/tmpigoryet1pip-wheel- --python-tag cp36:\n",
      "  running bdist_wheel\n",
      "  running build\n",
      "  running build_py\n",
      "  creating build\n",
      "  creating build/lib.linux-x86_64-3.6\n",
      "  copying functools.py -> build/lib.linux-x86_64-3.6\n",
      "  running build_ext\n",
      "  building '_functools' extension\n",
      "  creating build/temp.linux-x86_64-3.6\n",
      "  creating build/temp.linux-x86_64-3.6/src\n",
      "  x86_64-linux-gnu-gcc -pthread -DNDEBUG -g -fwrapv -O2 -Wall -g -fstack-protector-strong -Wformat -Werror=format-security -Wdate-time -D_FORTIFY_SOURCE=2 -fPIC -I/usr/include/python3.6m -c src/functools.c -o build/temp.linux-x86_64-3.6/src/functools.o\n",
      "  src/functools.c: In function ‘init_functools’:\n",
      "  src/functools.c:43:6: warning: implicit declaration of function ‘Py_InitModule3’; did you mean ‘Py_Initialize’? [-Wimplicit-function-declaration]\n",
      "    m = Py_InitModule3(\"_functools\", NULL, functools_doc);\n",
      "        ^~~~~~~~~~~~~~\n",
      "        Py_Initialize\n",
      "  src/functools.c:43:4: warning: assignment makes pointer from integer without a cast [-Wint-conversion]\n",
      "    m = Py_InitModule3(\"_functools\", NULL, functools_doc);\n",
      "      ^\n",
      "  src/functools.c:45:3: warning: ‘return’ with no value, in function returning non-void\n",
      "     return;\n",
      "     ^~~~~~\n",
      "  src/functools.c:38:1: note: declared here\n",
      "   init_functools(void)\n",
      "   ^~~~~~~~~~~~~~\n",
      "  src/functools.c:49:2: warning: ‘return’ with no value, in function returning non-void\n",
      "    return;\n",
      "    ^~~~~~\n",
      "  src/functools.c:38:1: note: declared here\n",
      "   init_functools(void)\n",
      "   ^~~~~~~~~~~~~~\n",
      "  At top level:\n",
      "  src/functools.c:28:19: warning: ‘rcsid’ defined but not used [-Wunused-const-variable=]\n",
      "   static const char rcsid[] = \"@(#)$Dima: pylib/functools/src/functools.c,v 1.3 2005/08/22 07:39:33 dima Exp $\";\n",
      "                     ^~~~~\n",
      "  x86_64-linux-gnu-gcc -pthread -DNDEBUG -g -fwrapv -O2 -Wall -g -fstack-protector-strong -Wformat -Werror=format-security -Wdate-time -D_FORTIFY_SOURCE=2 -fPIC -I/usr/include/python3.6m -c src/compose.c -o build/temp.linux-x86_64-3.6/src/compose.o\n",
      "  src/compose.c: In function ‘compose_dealloc’:\n",
      "  src/compose.c:96:6: error: ‘struct compose’ has no member named ‘ob_type’; did you mean ‘ob_base’?\n",
      "    co->ob_type->tp_free(co);\n",
      "        ^~~~~~~\n",
      "        ob_base\n",
      "  src/compose.c: In function ‘compose_repr’:\n",
      "  src/compose.c:137:6: warning: implicit declaration of function ‘PyString_FromFormat’; did you mean ‘PyBytes_FromFormat’? [-Wimplicit-function-declaration]\n",
      "    s = PyString_FromFormat(\"<composition on %s at %p>\",\n",
      "        ^~~~~~~~~~~~~~~~~~~\n",
      "        PyBytes_FromFormat\n",
      "  src/compose.c:138:6: warning: implicit declaration of function ‘PyString_AsString’; did you mean ‘PyBytes_AsString’? [-Wimplicit-function-declaration]\n",
      "        PyString_AsString(grepr), (void *)co);\n",
      "        ^~~~~~~~~~~~~~~~~\n",
      "        PyBytes_AsString\n",
      "  src/compose.c:137:4: warning: assignment makes pointer from integer without a cast [-Wint-conversion]\n",
      "    s = PyString_FromFormat(\"<composition on %s at %p>\",\n",
      "      ^\n",
      "  src/compose.c: At top level:\n",
      "  src/compose.c:143:36: warning: missing braces around initializer [-Wmissing-braces]\n",
      "   static PyTypeObject compose_type = {\n",
      "                                      ^\n",
      "  src/compose.c:146:2: warning: initialization makes integer from pointer without a cast [-Wint-conversion]\n",
      "    \"compose\",   /* tp_name */\n",
      "    ^~~~~~~~~\n",
      "  src/compose.c:146:2: note: (near initialization for ‘compose_type.tp_basicsize’)\n",
      "  src/compose.c:150:2: warning: initialization from incompatible pointer type [-Wincompatible-pointer-types]\n",
      "    (destructor)compose_dealloc, /* tp_dealloc */\n",
      "    ^\n",
      "  src/compose.c:150:2: note: (near initialization for ‘compose_type.tp_print’)\n",
      "  src/compose.c:155:2: warning: initialization from incompatible pointer type [-Wincompatible-pointer-types]\n",
      "    (reprfunc)compose_repr,  /* tp_repr */\n",
      "    ^\n",
      "  src/compose.c:155:2: note: (near initialization for ‘compose_type.tp_as_number’)\n",
      "  src/compose.c:160:2: warning: initialization from incompatible pointer type [-Wincompatible-pointer-types]\n",
      "    (ternaryfunc)compose_call, /* tp_call */\n",
      "    ^\n",
      "  src/compose.c:160:2: note: (near initialization for ‘compose_type.tp_str’)\n",
      "  In file included from /usr/include/python3.6m/pytime.h:6:0,\n",
      "                   from /usr/include/python3.6m/Python.h:77,\n",
      "                   from src/compose.c:31:\n",
      "  /usr/include/python3.6m/object.h:659:29: warning: initialization makes pointer from integer without a cast [-Wint-conversion]\n",
      "   #define Py_TPFLAGS_DEFAULT  ( \\\n",
      "                               ^\n",
      "  src/compose.c:165:2: note: in expansion of macro ‘Py_TPFLAGS_DEFAULT’\n",
      "    Py_TPFLAGS_DEFAULT | Py_TPFLAGS_HAVE_GC |\n",
      "    ^~~~~~~~~~~~~~~~~~\n",
      "  /usr/include/python3.6m/object.h:659:29: note: (near initialization for ‘compose_type.tp_doc’)\n",
      "   #define Py_TPFLAGS_DEFAULT  ( \\\n",
      "                               ^\n",
      "  src/compose.c:165:2: note: in expansion of macro ‘Py_TPFLAGS_DEFAULT’\n",
      "    Py_TPFLAGS_DEFAULT | Py_TPFLAGS_HAVE_GC |\n",
      "    ^~~~~~~~~~~~~~~~~~\n",
      "  src/compose.c:167:2: warning: initialization from incompatible pointer type [-Wincompatible-pointer-types]\n",
      "    compose_doc,   /* tp_doc */\n",
      "    ^~~~~~~~~~~\n",
      "  src/compose.c:167:2: note: (near initialization for ‘compose_type.tp_traverse’)\n",
      "  src/compose.c:168:2: warning: initialization from incompatible pointer type [-Wincompatible-pointer-types]\n",
      "    (traverseproc)compose_traverse, /* tp_traverse */\n",
      "    ^\n",
      "  src/compose.c:168:2: note: (near initialization for ‘compose_type.tp_clear’)\n",
      "  src/compose.c:179:2: warning: initialization from incompatible pointer type [-Wincompatible-pointer-types]\n",
      "    PyMethod_New,   /* tp_descr_get */\n",
      "    ^~~~~~~~~~~~\n",
      "  src/compose.c:179:2: note: (near initialization for ‘compose_type.tp_descr_set’)\n",
      "  src/compose.c:184:2: warning: initialization from incompatible pointer type [-Wincompatible-pointer-types]\n",
      "    compose_new,   /* tp_new */\n",
      "    ^~~~~~~~~~~\n",
      "  src/compose.c:184:2: note: (near initialization for ‘compose_type.tp_free’)\n",
      "  src/compose.c:185:2: warning: initialization from incompatible pointer type [-Wincompatible-pointer-types]\n",
      "    PyObject_GC_Del,  /* tp_free */\n",
      "    ^~~~~~~~~~~~~~~\n",
      "  src/compose.c:185:2: note: (near initialization for ‘compose_type.tp_is_gc’)\n",
      "  src/compose.c:143:36: warning: missing braces around initializer [-Wmissing-braces]\n",
      "   static PyTypeObject compose_type = {\n",
      "                                      ^\n",
      "  src/compose.c:28:19: warning: ‘rcsid’ defined but not used [-Wunused-const-variable=]\n",
      "   static const char rcsid[] = \"@(#)$Dima: pylib/functools/src/compose.c,v 1.3 2005/08/22 07:39:33 dima Exp $\";\n",
      "                     ^~~~~\n",
      "  error: command 'x86_64-linux-gnu-gcc' failed with exit status 1\n",
      "  \n",
      "  ----------------------------------------\n",
      "\u001b[31m  Failed building wheel for functools\u001b[0m\n",
      "\u001b[?25h  Running setup.py clean for functools\n",
      "Failed to build functools\n",
      "Installing collected packages: functools\n",
      "  Running setup.py install for functools ... \u001b[?25lerror\n",
      "    Complete output from command /usr/bin/python3 -u -c \"import setuptools, tokenize;__file__='/tmp/pip-build-_6nxh9td/functools/setup.py';f=getattr(tokenize, 'open', open)(__file__);code=f.read().replace('\\r\\n', '\\n');f.close();exec(compile(code, __file__, 'exec'))\" install --record /tmp/pip-u9fldwn2-record/install-record.txt --single-version-externally-managed --compile --user --prefix=:\n",
      "    running install\n",
      "    /home/talentum/.local/lib/python3.6/site-packages/setuptools/command/install.py:37: SetuptoolsDeprecationWarning: setup.py install is deprecated. Use build and pip and other standards-based tools.\n",
      "      setuptools.SetuptoolsDeprecationWarning,\n",
      "    running build\n",
      "    running build_py\n",
      "    creating build\n",
      "    creating build/lib.linux-x86_64-3.6\n",
      "    copying functools.py -> build/lib.linux-x86_64-3.6\n",
      "    running build_ext\n",
      "    building '_functools' extension\n",
      "    creating build/temp.linux-x86_64-3.6\n",
      "    creating build/temp.linux-x86_64-3.6/src\n",
      "    x86_64-linux-gnu-gcc -pthread -DNDEBUG -g -fwrapv -O2 -Wall -g -fstack-protector-strong -Wformat -Werror=format-security -Wdate-time -D_FORTIFY_SOURCE=2 -fPIC -I/usr/include/python3.6m -c src/functools.c -o build/temp.linux-x86_64-3.6/src/functools.o\n",
      "    src/functools.c: In function ‘init_functools’:\n",
      "    src/functools.c:43:6: warning: implicit declaration of function ‘Py_InitModule3’; did you mean ‘Py_Initialize’? [-Wimplicit-function-declaration]\n",
      "      m = Py_InitModule3(\"_functools\", NULL, functools_doc);\n",
      "          ^~~~~~~~~~~~~~\n",
      "          Py_Initialize\n",
      "    src/functools.c:43:4: warning: assignment makes pointer from integer without a cast [-Wint-conversion]\n",
      "      m = Py_InitModule3(\"_functools\", NULL, functools_doc);\n",
      "        ^\n",
      "    src/functools.c:45:3: warning: ‘return’ with no value, in function returning non-void\n",
      "       return;\n",
      "       ^~~~~~\n",
      "    src/functools.c:38:1: note: declared here\n",
      "     init_functools(void)\n",
      "     ^~~~~~~~~~~~~~\n",
      "    src/functools.c:49:2: warning: ‘return’ with no value, in function returning non-void\n",
      "      return;\n",
      "      ^~~~~~\n",
      "    src/functools.c:38:1: note: declared here\n",
      "     init_functools(void)\n",
      "     ^~~~~~~~~~~~~~\n",
      "    At top level:\n",
      "    src/functools.c:28:19: warning: ‘rcsid’ defined but not used [-Wunused-const-variable=]\n",
      "     static const char rcsid[] = \"@(#)$Dima: pylib/functools/src/functools.c,v 1.3 2005/08/22 07:39:33 dima Exp $\";\n",
      "                       ^~~~~\n",
      "    x86_64-linux-gnu-gcc -pthread -DNDEBUG -g -fwrapv -O2 -Wall -g -fstack-protector-strong -Wformat -Werror=format-security -Wdate-time -D_FORTIFY_SOURCE=2 -fPIC -I/usr/include/python3.6m -c src/compose.c -o build/temp.linux-x86_64-3.6/src/compose.o\n",
      "    src/compose.c: In function ‘compose_dealloc’:\n",
      "    src/compose.c:96:6: error: ‘struct compose’ has no member named ‘ob_type’; did you mean ‘ob_base’?\n",
      "      co->ob_type->tp_free(co);\n",
      "          ^~~~~~~\n",
      "          ob_base\n",
      "    src/compose.c: In function ‘compose_repr’:\n",
      "    src/compose.c:137:6: warning: implicit declaration of function ‘PyString_FromFormat’; did you mean ‘PyBytes_FromFormat’? [-Wimplicit-function-declaration]\n",
      "      s = PyString_FromFormat(\"<composition on %s at %p>\",\n",
      "          ^~~~~~~~~~~~~~~~~~~\n",
      "          PyBytes_FromFormat\n",
      "    src/compose.c:138:6: warning: implicit declaration of function ‘PyString_AsString’; did you mean ‘PyBytes_AsString’? [-Wimplicit-function-declaration]\n",
      "          PyString_AsString(grepr), (void *)co);\n",
      "          ^~~~~~~~~~~~~~~~~\n",
      "          PyBytes_AsString\n",
      "    src/compose.c:137:4: warning: assignment makes pointer from integer without a cast [-Wint-conversion]\n",
      "      s = PyString_FromFormat(\"<composition on %s at %p>\",\n",
      "        ^\n",
      "    src/compose.c: At top level:\n",
      "    src/compose.c:143:36: warning: missing braces around initializer [-Wmissing-braces]\n",
      "     static PyTypeObject compose_type = {\n",
      "                                        ^\n",
      "    src/compose.c:146:2: warning: initialization makes integer from pointer without a cast [-Wint-conversion]\n",
      "      \"compose\",   /* tp_name */\n",
      "      ^~~~~~~~~\n",
      "    src/compose.c:146:2: note: (near initialization for ‘compose_type.tp_basicsize’)\n",
      "    src/compose.c:150:2: warning: initialization from incompatible pointer type [-Wincompatible-pointer-types]\n",
      "      (destructor)compose_dealloc, /* tp_dealloc */\n",
      "      ^\n",
      "    src/compose.c:150:2: note: (near initialization for ‘compose_type.tp_print’)\n",
      "    src/compose.c:155:2: warning: initialization from incompatible pointer type [-Wincompatible-pointer-types]\n",
      "      (reprfunc)compose_repr,  /* tp_repr */\n",
      "      ^\n",
      "    src/compose.c:155:2: note: (near initialization for ‘compose_type.tp_as_number’)\n",
      "    src/compose.c:160:2: warning: initialization from incompatible pointer type [-Wincompatible-pointer-types]\n",
      "      (ternaryfunc)compose_call, /* tp_call */\n",
      "      ^\n",
      "    src/compose.c:160:2: note: (near initialization for ‘compose_type.tp_str’)\n",
      "    In file included from /usr/include/python3.6m/pytime.h:6:0,\n",
      "                     from /usr/include/python3.6m/Python.h:77,\n",
      "                     from src/compose.c:31:\n",
      "    /usr/include/python3.6m/object.h:659:29: warning: initialization makes pointer from integer without a cast [-Wint-conversion]\n",
      "     #define Py_TPFLAGS_DEFAULT  ( \\\n",
      "                                 ^\n",
      "    src/compose.c:165:2: note: in expansion of macro ‘Py_TPFLAGS_DEFAULT’\n",
      "      Py_TPFLAGS_DEFAULT | Py_TPFLAGS_HAVE_GC |\n",
      "      ^~~~~~~~~~~~~~~~~~\n",
      "    /usr/include/python3.6m/object.h:659:29: note: (near initialization for ‘compose_type.tp_doc’)\n",
      "     #define Py_TPFLAGS_DEFAULT  ( \\\n",
      "                                 ^\n",
      "    src/compose.c:165:2: note: in expansion of macro ‘Py_TPFLAGS_DEFAULT’\n",
      "      Py_TPFLAGS_DEFAULT | Py_TPFLAGS_HAVE_GC |\n",
      "      ^~~~~~~~~~~~~~~~~~\n",
      "    src/compose.c:167:2: warning: initialization from incompatible pointer type [-Wincompatible-pointer-types]\n",
      "      compose_doc,   /* tp_doc */\n",
      "      ^~~~~~~~~~~\n",
      "    src/compose.c:167:2: note: (near initialization for ‘compose_type.tp_traverse’)\n",
      "    src/compose.c:168:2: warning: initialization from incompatible pointer type [-Wincompatible-pointer-types]\n",
      "      (traverseproc)compose_traverse, /* tp_traverse */\n",
      "      ^\n",
      "    src/compose.c:168:2: note: (near initialization for ‘compose_type.tp_clear’)\n",
      "    src/compose.c:179:2: warning: initialization from incompatible pointer type [-Wincompatible-pointer-types]\n",
      "      PyMethod_New,   /* tp_descr_get */\n",
      "      ^~~~~~~~~~~~\n",
      "    src/compose.c:179:2: note: (near initialization for ‘compose_type.tp_descr_set’)\n",
      "    src/compose.c:184:2: warning: initialization from incompatible pointer type [-Wincompatible-pointer-types]\n",
      "      compose_new,   /* tp_new */\n",
      "      ^~~~~~~~~~~\n",
      "    src/compose.c:184:2: note: (near initialization for ‘compose_type.tp_free’)\n",
      "    src/compose.c:185:2: warning: initialization from incompatible pointer type [-Wincompatible-pointer-types]\n",
      "      PyObject_GC_Del,  /* tp_free */\n",
      "      ^~~~~~~~~~~~~~~\n",
      "    src/compose.c:185:2: note: (near initialization for ‘compose_type.tp_is_gc’)\n",
      "    src/compose.c:143:36: warning: missing braces around initializer [-Wmissing-braces]\n",
      "     static PyTypeObject compose_type = {\n",
      "                                        ^\n",
      "    src/compose.c:28:19: warning: ‘rcsid’ defined but not used [-Wunused-const-variable=]\n",
      "     static const char rcsid[] = \"@(#)$Dima: pylib/functools/src/compose.c,v 1.3 2005/08/22 07:39:33 dima Exp $\";\n",
      "                       ^~~~~\n",
      "    error: command 'x86_64-linux-gnu-gcc' failed with exit status 1\n",
      "    \n",
      "    ----------------------------------------\n",
      "\u001b[31mCommand \"/usr/bin/python3 -u -c \"import setuptools, tokenize;__file__='/tmp/pip-build-_6nxh9td/functools/setup.py';f=getattr(tokenize, 'open', open)(__file__);code=f.read().replace('\\r\\n', '\\n');f.close();exec(compile(code, __file__, 'exec'))\" install --record /tmp/pip-u9fldwn2-record/install-record.txt --single-version-externally-managed --compile --user --prefix=\" failed with error code 1 in /tmp/pip-build-_6nxh9td/functools/\u001b[0m\n",
      "\u001b[?25h"
     ]
    }
   ],
   "source": [
    "!pip3 install  functools"
   ]
  },
  {
   "cell_type": "code",
   "execution_count": 18,
   "id": "bcedda36",
   "metadata": {},
   "outputs": [],
   "source": [
    "import functools"
   ]
  },
  {
   "cell_type": "code",
   "execution_count": 39,
   "id": "97d9ef20",
   "metadata": {},
   "outputs": [
    {
     "ename": "NameError",
     "evalue": "name 'acc' is not defined",
     "output_type": "error",
     "traceback": [
      "\u001b[0;31m---------------------------------------------------------------------------\u001b[0m",
      "\u001b[0;31mNameError\u001b[0m                                 Traceback (most recent call last)",
      "\u001b[0;32m<ipython-input-39-8bb7a2002a81>\u001b[0m in \u001b[0;36m<module>\u001b[0;34m\u001b[0m\n\u001b[1;32m      1\u001b[0m \u001b[0mlst\u001b[0m\u001b[0;34m=\u001b[0m\u001b[0;34m[\u001b[0m\u001b[0;36m2\u001b[0m\u001b[0;34m,\u001b[0m\u001b[0;36m4\u001b[0m\u001b[0;34m,\u001b[0m\u001b[0;36m6\u001b[0m\u001b[0;34m,\u001b[0m\u001b[0;36m8\u001b[0m\u001b[0;34m]\u001b[0m\u001b[0;34m\u001b[0m\u001b[0;34m\u001b[0m\u001b[0m\n\u001b[0;32m----> 2\u001b[0;31m \u001b[0mans\u001b[0m\u001b[0;34m=\u001b[0m\u001b[0mfunctools\u001b[0m\u001b[0;34m.\u001b[0m\u001b[0mreduce\u001b[0m\u001b[0;34m(\u001b[0m\u001b[0;32mlambda\u001b[0m \u001b[0macc\u001b[0m\u001b[0;34m,\u001b[0m\u001b[0mnum\u001b[0m\u001b[0;34m:\u001b[0m\u001b[0;34m(\u001b[0m\u001b[0macc\u001b[0m\u001b[0;34m[\u001b[0m\u001b[0;36m0\u001b[0m\u001b[0;34m]\u001b[0m\u001b[0;34m,\u001b[0m\u001b[0mnum\u001b[0m\u001b[0;34m[\u001b[0m\u001b[0;36m1\u001b[0m\u001b[0;34m]\u001b[0m\u001b[0;34m+\u001b[0m\u001b[0macc\u001b[0m\u001b[0;34m[\u001b[0m\u001b[0;36m1\u001b[0m\u001b[0;34m]\u001b[0m\u001b[0;34m)\u001b[0m\u001b[0;34m,\u001b[0m\u001b[0;34m[\u001b[0m\u001b[0mlist\u001b[0m\u001b[0;34m(\u001b[0m\u001b[0mzip\u001b[0m\u001b[0;34m(\u001b[0m\u001b[0macc\u001b[0m\u001b[0;34m,\u001b[0m\u001b[0mmap\u001b[0m\u001b[0;34m(\u001b[0m\u001b[0;32mlambda\u001b[0m \u001b[0mx\u001b[0m \u001b[0;34m:\u001b[0m \u001b[0mx\u001b[0m\u001b[0;34m**\u001b[0m\u001b[0;36m2\u001b[0m\u001b[0;34m,\u001b[0m\u001b[0mnum\u001b[0m\u001b[0;34m)\u001b[0m\u001b[0;34m)\u001b[0m\u001b[0;34m)\u001b[0m\u001b[0;34m,\u001b[0m\u001b[0mlist\u001b[0m\u001b[0;34m(\u001b[0m\u001b[0mzip\u001b[0m\u001b[0;34m(\u001b[0m\u001b[0macc\u001b[0m\u001b[0;34m,\u001b[0m\u001b[0mmap\u001b[0m\u001b[0;34m(\u001b[0m\u001b[0;32mlambda\u001b[0m \u001b[0mx\u001b[0m \u001b[0;34m:\u001b[0m \u001b[0mx\u001b[0m\u001b[0;34m**\u001b[0m\u001b[0;36m2\u001b[0m\u001b[0;34m,\u001b[0m\u001b[0mnum\u001b[0m\u001b[0;34m)\u001b[0m\u001b[0;34m)\u001b[0m\u001b[0;34m)\u001b[0m\u001b[0;34m]\u001b[0m\u001b[0;34m)\u001b[0m\u001b[0;34m\u001b[0m\u001b[0;34m\u001b[0m\u001b[0m\n\u001b[0m",
      "\u001b[0;31mNameError\u001b[0m: name 'acc' is not defined"
     ]
    }
   ],
   "source": [
    "lst=[2,4,6,8]\n",
    "ans=functools.reduce(lambda acc,num:(acc[0],num[1]+acc[1]),[list(zip(acc,map(lambda x : x**2,num))),list(zip(acc,map(lambda x : x**2,num)))])"
   ]
  },
  {
   "cell_type": "code",
   "execution_count": 31,
   "id": "2122c8b3",
   "metadata": {},
   "outputs": [
    {
     "name": "stdout",
     "output_type": "stream",
     "text": [
      "{2: 4, 4: 16, 6: 36, 8: 64}\n"
     ]
    }
   ],
   "source": [
    "print(ans)"
   ]
  },
  {
   "cell_type": "code",
   "execution_count": 37,
   "id": "da763be4",
   "metadata": {},
   "outputs": [
    {
     "data": {
      "text/plain": [
       "[(2, 4), (4, 16), (6, 36), (8, 64)]"
      ]
     },
     "execution_count": 37,
     "metadata": {},
     "output_type": "execute_result"
    }
   ],
   "source": [
    "list(zip(lst,map(lambda x : x**2,lst)))"
   ]
  },
  {
   "cell_type": "code",
   "execution_count": 43,
   "id": "87af3709",
   "metadata": {},
   "outputs": [],
   "source": [
    "ls=['python','linux','java']"
   ]
  },
  {
   "cell_type": "code",
   "execution_count": 60,
   "id": "8e041689",
   "metadata": {},
   "outputs": [],
   "source": [
    "ans2=functools.reduce(lambda acc,c:acc+'-'+c[:3],ls,\">\")"
   ]
  },
  {
   "cell_type": "code",
   "execution_count": 61,
   "id": "d01e0169",
   "metadata": {},
   "outputs": [
    {
     "data": {
      "text/plain": [
       "'>-pyt-lin-jav'"
      ]
     },
     "execution_count": 61,
     "metadata": {},
     "output_type": "execute_result"
    }
   ],
   "source": [
    "ans2"
   ]
  },
  {
   "cell_type": "code",
   "execution_count": null,
   "id": "3ae2914a",
   "metadata": {},
   "outputs": [],
   "source": []
  }
 ],
 "metadata": {
  "kernelspec": {
   "display_name": "Python 3",
   "language": "python",
   "name": "python3"
  },
  "language_info": {
   "codemirror_mode": {
    "name": "ipython",
    "version": 3
   },
   "file_extension": ".py",
   "mimetype": "text/x-python",
   "name": "python",
   "nbconvert_exporter": "python",
   "pygments_lexer": "ipython3",
   "version": "3.6.9"
  }
 },
 "nbformat": 4,
 "nbformat_minor": 5
}
