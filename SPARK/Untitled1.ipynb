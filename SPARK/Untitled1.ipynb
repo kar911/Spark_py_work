{
 "cells": [
  {
   "cell_type": "code",
   "execution_count": 24,
   "id": "fa8d3672",
   "metadata": {},
   "outputs": [],
   "source": [
    "rdd1 = sc.parallelize([{'k',12},{'a',13},{'r',52},{'r',5},{'k',100}])"
   ]
  },
  {
   "cell_type": "code",
   "execution_count": 25,
   "id": "5a95ce88",
   "metadata": {},
   "outputs": [],
   "source": [
    "rdd2 = rdd1.reduceByKey(lambda x,y : x+y+5)"
   ]
  },
  {
   "cell_type": "code",
   "execution_count": 26,
   "id": "7ef09b0b",
   "metadata": {},
   "outputs": [],
   "source": [
    "rdd2a = rdd1.reduceByKey(lambda x,y : x+y)"
   ]
  },
  {
   "cell_type": "code",
   "execution_count": 27,
   "id": "061284e4",
   "metadata": {},
   "outputs": [
    {
     "data": {
      "text/plain": [
       "[('r', 62), ('a', 13), ('k', 117)]"
      ]
     },
     "execution_count": 27,
     "metadata": {},
     "output_type": "execute_result"
    }
   ],
   "source": [
    "rdd2.collect()"
   ]
  },
  {
   "cell_type": "code",
   "execution_count": 28,
   "id": "f7c57f18",
   "metadata": {},
   "outputs": [
    {
     "data": {
      "text/plain": [
       "[('r', 57), ('a', 13), ('k', 112)]"
      ]
     },
     "execution_count": 28,
     "metadata": {},
     "output_type": "execute_result"
    }
   ],
   "source": [
    "rdd2a.collect()"
   ]
  },
  {
   "cell_type": "markdown",
   "id": "3675d940",
   "metadata": {},
   "source": [
    " ## swaping key with value"
   ]
  },
  {
   "cell_type": "code",
   "execution_count": 29,
   "id": "38a9326a",
   "metadata": {},
   "outputs": [],
   "source": [
    "rdd2rev=rdd2a.map(lambda x : (x[1],x[0]))"
   ]
  },
  {
   "cell_type": "markdown",
   "id": "7849e202",
   "metadata": {},
   "source": [
    " ## sorting values with value"
   ]
  },
  {
   "cell_type": "code",
   "execution_count": 33,
   "id": "8498d28d",
   "metadata": {},
   "outputs": [],
   "source": [
    "rdd3=rdd2a.sortByKey(ascending=False)"
   ]
  },
  {
   "cell_type": "code",
   "execution_count": 34,
   "id": "546ffb77",
   "metadata": {},
   "outputs": [
    {
     "data": {
      "text/plain": [
       "[('r', 57), ('k', 112), ('a', 13)]"
      ]
     },
     "execution_count": 34,
     "metadata": {},
     "output_type": "execute_result"
    }
   ],
   "source": [
    "rdd3 .collect()"
   ]
  },
  {
   "cell_type": "code",
   "execution_count": 32,
   "id": "355571a6",
   "metadata": {},
   "outputs": [
    {
     "data": {
      "text/plain": [
       "[(57, 'r'), (13, 'a'), (112, 'k')]"
      ]
     },
     "execution_count": 32,
     "metadata": {},
     "output_type": "execute_result"
    }
   ],
   "source": [
    "rdd2rev.collect()"
   ]
  },
  {
   "cell_type": "code",
   "execution_count": null,
   "id": "e93d39e5",
   "metadata": {},
   "outputs": [],
   "source": []
  },
  {
   "cell_type": "code",
   "execution_count": null,
   "id": "ba61ceda",
   "metadata": {},
   "outputs": [],
   "source": []
  },
  {
   "cell_type": "code",
   "execution_count": 57,
   "id": "c1b92788",
   "metadata": {},
   "outputs": [],
   "source": [
    "airport = [(\"RS\", \"MOS\"),(\"RS\", \"VLADI\"),(\"US\", \"JFK\"),(\"US\", \"SFO\"),(\"FR\", \"CDG\")]"
   ]
  },
  {
   "cell_type": "code",
   "execution_count": 58,
   "id": "1a940b3c",
   "metadata": {},
   "outputs": [],
   "source": [
    "rddreg = sc.parallelize(airport)"
   ]
  },
  {
   "cell_type": "code",
   "execution_count": 59,
   "id": "fab6a0be",
   "metadata": {},
   "outputs": [
    {
     "data": {
      "text/plain": [
       "pyspark.rdd.RDD"
      ]
     },
     "execution_count": 59,
     "metadata": {},
     "output_type": "execute_result"
    }
   ],
   "source": [
    "type(rddreg)"
   ]
  },
  {
   "cell_type": "code",
   "execution_count": 60,
   "id": "3646b8a0",
   "metadata": {},
   "outputs": [],
   "source": [
    "pairrdd=rddreg.groupByKey().collect()"
   ]
  },
  {
   "cell_type": "code",
   "execution_count": 61,
   "id": "72e4f9da",
   "metadata": {},
   "outputs": [
    {
     "data": {
      "text/plain": [
       "str"
      ]
     },
     "execution_count": 61,
     "metadata": {},
     "output_type": "execute_result"
    }
   ],
   "source": [
    "type(pairrdd)\n",
    "type(pairrdd[0][0])"
   ]
  },
  {
   "cell_type": "code",
   "execution_count": 62,
   "id": "ad855bf8",
   "metadata": {},
   "outputs": [
    {
     "data": {
      "text/plain": [
       "[('RS', <pyspark.resultiterable.ResultIterable at 0x7f13252b3c50>),\n",
       " ('US', <pyspark.resultiterable.ResultIterable at 0x7f13252b3c88>),\n",
       " ('FR', <pyspark.resultiterable.ResultIterable at 0x7f13252b3470>)]"
      ]
     },
     "execution_count": 62,
     "metadata": {},
     "output_type": "execute_result"
    }
   ],
   "source": [
    "pairrdd"
   ]
  },
  {
   "cell_type": "code",
   "execution_count": 63,
   "id": "99fbe966",
   "metadata": {},
   "outputs": [
    {
     "name": "stdout",
     "output_type": "stream",
     "text": [
      "RS  >  ['MOS', 'VLADI']\n",
      "US  >  ['JFK', 'SFO']\n",
      "FR  >  ['CDG']\n"
     ]
    }
   ],
   "source": [
    "for i,j in pairrdd:\n",
    "    print(i ,\" > \",list(j))"
   ]
  },
  {
   "cell_type": "code",
   "execution_count": 1,
   "id": "b5980d8b",
   "metadata": {},
   "outputs": [],
   "source": [
    "import os"
   ]
  },
  {
   "cell_type": "code",
   "execution_count": 2,
   "id": "b29d0799",
   "metadata": {},
   "outputs": [],
   "source": [
    "import sys"
   ]
  },
  {
   "cell_type": "code",
   "execution_count": 3,
   "id": "9b900184",
   "metadata": {},
   "outputs": [
    {
     "ename": "NameError",
     "evalue": "name 'pwd' is not defined",
     "output_type": "error",
     "traceback": [
      "\u001b[0;31m---------------------------------------------------------------------------\u001b[0m",
      "\u001b[0;31mNameError\u001b[0m                                 Traceback (most recent call last)",
      "\u001b[0;32m<ipython-input-3-0bd9a273b4e7>\u001b[0m in \u001b[0;36m<module>\u001b[0;34m\u001b[0m\n\u001b[0;32m----> 1\u001b[0;31m \u001b[0meval\u001b[0m\u001b[0;34m(\u001b[0m\u001b[0;34m'pwd'\u001b[0m\u001b[0;34m)\u001b[0m\u001b[0;34m\u001b[0m\u001b[0;34m\u001b[0m\u001b[0m\n\u001b[0m",
      "\u001b[0;32m<string>\u001b[0m in \u001b[0;36m<module>\u001b[0;34m\u001b[0m\n",
      "\u001b[0;31mNameError\u001b[0m: name 'pwd' is not defined"
     ]
    }
   ],
   "source": [
    "eval('pwd')"
   ]
  },
  {
   "cell_type": "code",
   "execution_count": 10,
   "id": "906568a1",
   "metadata": {},
   "outputs": [
    {
     "name": "stdout",
     "output_type": "stream",
     "text": [
      "Usage: hadoop fs [generic options]\r\n",
      "\t[-appendToFile <localsrc> ... <dst>]\r\n",
      "\t[-cat [-ignoreCrc] <src> ...]\r\n",
      "\t[-checksum <src> ...]\r\n",
      "\t[-chgrp [-R] GROUP PATH...]\r\n",
      "\t[-chmod [-R] <MODE[,MODE]... | OCTALMODE> PATH...]\r\n",
      "\t[-chown [-R] [OWNER][:[GROUP]] PATH...]\r\n",
      "\t[-copyFromLocal [-f] [-p] [-l] <localsrc> ... <dst>]\r\n",
      "\t[-copyToLocal [-p] [-ignoreCrc] [-crc] <src> ... <localdst>]\r\n",
      "\t[-count [-q] [-h] <path> ...]\r\n",
      "\t[-cp [-f] [-p | -p[topax]] <src> ... <dst>]\r\n",
      "\t[-createSnapshot <snapshotDir> [<snapshotName>]]\r\n",
      "\t[-deleteSnapshot <snapshotDir> <snapshotName>]\r\n",
      "\t[-df [-h] [<path> ...]]\r\n",
      "\t[-du [-s] [-h] <path> ...]\r\n",
      "\t[-expunge]\r\n",
      "\t[-find <path> ... <expression> ...]\r\n",
      "\t[-get [-p] [-ignoreCrc] [-crc] <src> ... <localdst>]\r\n",
      "\t[-getfacl [-R] <path>]\r\n",
      "\t[-getfattr [-R] {-n name | -d} [-e en] <path>]\r\n",
      "\t[-getmerge [-nl] <src> <localdst>]\r\n",
      "\t[-help [cmd ...]]\r\n",
      "\t[-ls [-d] [-h] [-R] [<path> ...]]\r\n",
      "\t[-mkdir [-p] <path> ...]\r\n",
      "\t[-moveFromLocal <localsrc> ... <dst>]\r\n",
      "\t[-moveToLocal <src> <localdst>]\r\n",
      "\t[-mv <src> ... <dst>]\r\n",
      "\t[-put [-f] [-p] [-l] <localsrc> ... <dst>]\r\n",
      "\t[-renameSnapshot <snapshotDir> <oldName> <newName>]\r\n",
      "\t[-rm [-f] [-r|-R] [-skipTrash] <src> ...]\r\n",
      "\t[-rmdir [--ignore-fail-on-non-empty] <dir> ...]\r\n",
      "\t[-setfacl [-R] [{-b|-k} {-m|-x <acl_spec>} <path>]|[--set <acl_spec> <path>]]\r\n",
      "\t[-setfattr {-n name [-v value] | -x name} <path>]\r\n",
      "\t[-setrep [-R] [-w] <rep> <path> ...]\r\n",
      "\t[-stat [format] <path> ...]\r\n",
      "\t[-tail [-f] <file>]\r\n",
      "\t[-test -[defsz] <path>]\r\n",
      "\t[-text [-ignoreCrc] <src> ...]\r\n",
      "\t[-touchz <path> ...]\r\n",
      "\t[-truncate [-w] <length> <path> ...]\r\n",
      "\t[-usage [cmd ...]]\r\n",
      "\r\n",
      "Generic options supported are\r\n",
      "-conf <configuration file>     specify an application configuration file\r\n",
      "-D <property=value>            use value for given property\r\n",
      "-fs <local|namenode:port>      specify a namenode\r\n",
      "-jt <local|resourcemanager:port>    specify a ResourceManager\r\n",
      "-files <comma separated list of files>    specify comma separated files to be copied to the map reduce cluster\r\n",
      "-libjars <comma separated list of jars>    specify comma separated jar files to include in the classpath.\r\n",
      "-archives <comma separated list of archives>    specify comma separated archives to be unarchived on the compute machines.\r\n",
      "\r\n",
      "The general command line syntax is\r\n",
      "bin/hadoop command [genericOptions] [commandOptions]\r\n",
      "\r\n"
     ]
    }
   ],
   "source": [
    "!hdfs dfs"
   ]
  },
  {
   "cell_type": "code",
   "execution_count": null,
   "id": "13eb162f",
   "metadata": {},
   "outputs": [],
   "source": []
  }
 ],
 "metadata": {
  "kernelspec": {
   "display_name": "Python 3",
   "language": "python",
   "name": "python3"
  },
  "language_info": {
   "codemirror_mode": {
    "name": "ipython",
    "version": 3
   },
   "file_extension": ".py",
   "mimetype": "text/x-python",
   "name": "python",
   "nbconvert_exporter": "python",
   "pygments_lexer": "ipython3",
   "version": "3.6.9"
  }
 },
 "nbformat": 4,
 "nbformat_minor": 5
}
