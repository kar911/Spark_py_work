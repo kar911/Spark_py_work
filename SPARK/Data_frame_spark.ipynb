{
 "cells": [
  {
   "cell_type": "code",
   "execution_count": 2,
   "id": "edd91534",
   "metadata": {},
   "outputs": [],
   "source": [
    "rdd=sc.parallelize([('a',1,2,4),('a1',11,21,41),('a2',12,22,42),('a3',13,23,43),('a4',14,24,44)])"
   ]
  },
  {
   "cell_type": "code",
   "execution_count": 3,
   "id": "04262170",
   "metadata": {},
   "outputs": [],
   "source": [
    "name=['name_col','col1','col2','col3']"
   ]
  },
  {
   "cell_type": "code",
   "execution_count": 5,
   "id": "8413722e",
   "metadata": {},
   "outputs": [],
   "source": [
    "rrdd=spark.createDataFrame(rdd,name)"
   ]
  },
  {
   "cell_type": "code",
   "execution_count": 6,
   "id": "c4dda889",
   "metadata": {},
   "outputs": [
    {
     "data": {
      "text/plain": [
       "[Row(name_col='a', col1=1, col2=2, col3=4),\n",
       " Row(name_col='a1', col1=11, col2=21, col3=41),\n",
       " Row(name_col='a2', col1=12, col2=22, col3=42),\n",
       " Row(name_col='a3', col1=13, col2=23, col3=43),\n",
       " Row(name_col='a4', col1=14, col2=24, col3=44)]"
      ]
     },
     "execution_count": 6,
     "metadata": {},
     "output_type": "execute_result"
    }
   ],
   "source": [
    "rrdd.collect()"
   ]
  },
  {
   "cell_type": "code",
   "execution_count": null,
   "id": "361a43a5",
   "metadata": {},
   "outputs": [],
   "source": []
  }
 ],
 "metadata": {
  "kernelspec": {
   "display_name": "Python 3",
   "language": "python",
   "name": "python3"
  },
  "language_info": {
   "codemirror_mode": {
    "name": "ipython",
    "version": 3
   },
   "file_extension": ".py",
   "mimetype": "text/x-python",
   "name": "python",
   "nbconvert_exporter": "python",
   "pygments_lexer": "ipython3",
   "version": "3.6.9"
  }
 },
 "nbformat": 4,
 "nbformat_minor": 5
}
