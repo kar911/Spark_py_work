{
 "cells": [
  {
   "cell_type": "markdown",
   "metadata": {},
   "source": [
    "# Adding an ID Field\n",
    "\n",
    "- When working with data, you sometimes only want to access certain fields and perform various operations. In this case, find all the unique voter names from the DataFrame and add a unique ID number. Remember that Spark IDs are assigned based on the DataFrame partition - as such the ID values may be much greater than the actual number of rows in the DataFrame.\n",
    "\n",
    "- With Spark's lazy processing, the IDs are not actually generated until an action is performed and can be somewhat random depending on the size of the dataset.\n",
    "\n",
    "- The spark session and a Spark DataFrame `df` containing the `DallasCouncilVotes.csv.gz` file are available in your workspace. The `pyspark.sql.functions` library is available under the alias `F`.\n",
    "\n",
    "## Instructions\n",
    "\n",
    "- Select the unique entries from the column `VOTER NAME` and create a new DataFrame called `voter_df`.\n",
    "- Count the rows in the `voter_df` DataFrame.\n",
    "- Add a `ROW_ID` column using the appropriate Spark function.\n",
    "- Show the rows with the 10 highest ROW_IDs."
   ]
  },
  {
   "cell_type": "code",
   "execution_count": 4,
   "metadata": {},
   "outputs": [],
   "source": [
    "# Intialization\n",
    "import os\n",
    "import sys\n",
    "\n",
    "os.environ[\"SPARK_HOME\"] = \"/home/talentum/spark\"\n",
    "os.environ[\"PYLIB\"] = os.environ[\"SPARK_HOME\"] + \"/python/lib\"\n",
    "# In below two lines, use /usr/bin/python2.7 if you want to use Python 2\n",
    "os.environ[\"PYSPARK_PYTHON\"] = \"/usr/bin/python3.6\" \n",
    "os.environ[\"PYSPARK_DRIVER_PYTHON\"] = \"/usr/bin/python3\"\n",
    "sys.path.insert(0, os.environ[\"PYLIB\"] +\"/py4j-0.10.7-src.zip\")\n",
    "sys.path.insert(0, os.environ[\"PYLIB\"] +\"/pyspark.zip\")\n",
    "\n",
    "# NOTE: Whichever package you want mention here.\n",
    "# os.environ['PYSPARK_SUBMIT_ARGS'] = '--packages com.databricks:spark-xml_2.11:0.6.0 pyspark-shell' \n",
    "# os.environ['PYSPARK_SUBMIT_ARGS'] = '--packages org.apache.spark:spark-avro_2.11:2.4.0 pyspark-shell'\n",
    "os.environ['PYSPARK_SUBMIT_ARGS'] = '--packages com.databricks:spark-xml_2.11:0.6.0,org.apache.spark:spark-avro_2.11:2.4.3 pyspark-shell'\n",
    "# os.environ['PYSPARK_SUBMIT_ARGS'] = '--packages com.databricks:spark-xml_2.11:0.6.0,org.apache.spark:spark-avro_2.11:2.4.0 pyspark-shell'"
   ]
  },
  {
   "cell_type": "code",
   "execution_count": null,
   "metadata": {},
   "outputs": [],
   "source": [
    "#Entrypoint 2.x\n",
    "from pyspark.sql import SparkSession\n",
    "spark = SparkSession.builder.appName(\"Spark SQL basic example\").enableHiveSupport().getOrCreate()\n",
    "\n",
    "# On yarn:\n",
    "# spark = SparkSession.builder.appName(\"Spark SQL basic example\").enableHiveSupport().master(\"yarn\").getOrCreate()\n",
    "# specify .master(\"yarn\")\n",
    "\n",
    "sc = spark.sparkContext"
   ]
  },
  {
   "cell_type": "code",
   "execution_count": 1,
   "metadata": {},
   "outputs": [
    {
     "name": "stdout",
     "output_type": "stream",
     "text": [
      "/home/talentum/spark-jupyter/Partition_and_lazy\r\n"
     ]
    }
   ],
   "source": [
    "!pwd"
   ]
  },
  {
   "cell_type": "code",
   "execution_count": 2,
   "metadata": {},
   "outputs": [],
   "source": [
    "import pyspark.sql.functions as F\n",
    "from pyspark.sql.types import *\n",
    "\n",
    "# Load the CSV file\n",
    "df = spark.read.format('csv').options(Header=True).load('file:///home/talentum/spark-jupyter/Partition_and_lazy/Dataset/DallasCouncilVotes.csv.gz')"
   ]
  },
  {
   "cell_type": "code",
   "execution_count": 3,
   "metadata": {},
   "outputs": [
    {
     "name": "stdout",
     "output_type": "stream",
     "text": [
      "+----------+------------------+-----------+--------+-------------+-------------------+---------+------------------+-----------------------+------------------+--------------------+\n",
      "|      DATE|AGENDA_ITEM_NUMBER|  ITEM_TYPE|DISTRICT|        TITLE|         VOTER NAME|VOTE CAST|FINAL ACTION TAKEN|AGENDA ITEM DESCRIPTION|         AGENDA_ID|             VOTE_ID|\n",
      "+----------+------------------+-----------+--------+-------------+-------------------+---------+------------------+-----------------------+------------------+--------------------+\n",
      "|02/08/2017|                 1|     AGENDA|      13|Councilmember|  Jennifer S. Gates|      N/A|  NO ACTION NEEDED|          Call to Order|020817__Special__1|020817__Special__...|\n",
      "|02/08/2017|                 1|     AGENDA|      14|Councilmember| Philip T. Kingston|      N/A|  NO ACTION NEEDED|          Call to Order|020817__Special__1|020817__Special__...|\n",
      "|02/08/2017|                 1|     AGENDA|      15|        Mayor|Michael S. Rawlings|      N/A|  NO ACTION NEEDED|          Call to Order|020817__Special__1|020817__Special__...|\n",
      "|02/08/2017|                 1|     AGENDA|       2|Councilmember|       Adam Medrano|      N/A|  NO ACTION NEEDED|          Call to Order|020817__Special__1|020817__Special__1_2|\n",
      "|02/08/2017|                 1|     AGENDA|       3|Councilmember|   Casey Thomas, II|      N/A|  NO ACTION NEEDED|          Call to Order|020817__Special__1|020817__Special__1_3|\n",
      "|02/08/2017|                 1|     AGENDA|       4|Councilmember|Carolyn King Arnold|      N/A|  NO ACTION NEEDED|          Call to Order|020817__Special__1|020817__Special__1_4|\n",
      "|02/08/2017|                 4|AGENDA DATE|       1|Councilmember|       Scott Griggs|      YES|          APPROVED|   Authorize a three...|         020817__4|         020817__4_1|\n",
      "|02/08/2017|                 4|AGENDA DATE|      10|Councilmember|   B. Adam  McGough|      YES|          APPROVED|   Authorize a three...|         020817__4|        020817__4_10|\n",
      "|02/08/2017|                 4|AGENDA DATE|      11|Councilmember|       Lee Kleinman|      YES|          APPROVED|   Authorize a three...|         020817__4|        020817__4_11|\n",
      "|02/08/2017|                 4|AGENDA DATE|      12|Councilmember|      Sandy Greyson|      YES|          APPROVED|   Authorize a three...|         020817__4|        020817__4_12|\n",
      "|02/08/2017|                 4|AGENDA DATE|      13|Councilmember|  Jennifer S. Gates|      YES|          APPROVED|   Authorize a three...|         020817__4|        020817__4_13|\n",
      "|02/08/2017|                 4|AGENDA DATE|      14|Councilmember| Philip T. Kingston|      YES|          APPROVED|   Authorize a three...|         020817__4|        020817__4_14|\n",
      "|02/08/2017|                 4|AGENDA DATE|      15|        Mayor|Michael S. Rawlings|      YES|          APPROVED|   Authorize a three...|         020817__4|        020817__4_15|\n",
      "|02/08/2017|                 4|AGENDA DATE|       2|Councilmember|       Adam Medrano|      YES|          APPROVED|   Authorize a three...|         020817__4|         020817__4_2|\n",
      "|02/08/2017|                 4|AGENDA DATE|       3|Councilmember|   Casey Thomas, II|      YES|          APPROVED|   Authorize a three...|         020817__4|         020817__4_3|\n",
      "|02/08/2017|                 4|AGENDA DATE|       4|Councilmember|Carolyn King Arnold|      YES|          APPROVED|   Authorize a three...|         020817__4|         020817__4_4|\n",
      "|02/08/2017|                 4|AGENDA DATE|       5|Councilmember| Rickey D. Callahan|      YES|          APPROVED|   Authorize a three...|         020817__4|         020817__4_5|\n",
      "|01/11/2017|                 1|AGENDA DATE|      13|Councilmember|  Jennifer S. Gates|      YES|          APPROVED|   Approval of Minut...|         011117__1|        011117__1_13|\n",
      "|04/25/2018|                 1|AGENDA DATE|      12|Councilmember|     Sandy  Greyson|      YES|          APPROVED|   Approval of Minut...|         042518__1|        042518__1_12|\n",
      "|04/25/2018|                 1|AGENDA DATE|      13|Councilmember| Jennifer S.  Gates|      YES|          APPROVED|   Approval of Minut...|         042518__1|        042518__1_13|\n",
      "+----------+------------------+-----------+--------+-------------+-------------------+---------+------------------+-----------------------+------------------+--------------------+\n",
      "only showing top 20 rows\n",
      "\n"
     ]
    }
   ],
   "source": [
    "df.show()"
   ]
  },
  {
   "cell_type": "code",
   "execution_count": 7,
   "metadata": {},
   "outputs": [],
   "source": [
    "# Select all the unique council voters\n",
    "\n",
    "voter_df = df.select(df[\"VOTER NAME\"]).distinct()"
   ]
  },
  {
   "cell_type": "code",
   "execution_count": 8,
   "metadata": {},
   "outputs": [
    {
     "name": "stdout",
     "output_type": "stream",
     "text": [
      "\n",
      "There are 36 rows in the voter_df DataFrame.\n",
      "\n",
      "+--------------------+-------------+\n",
      "|          VOTER NAME|       ROW_ID|\n",
      "+--------------------+-------------+\n",
      "|        Lee Kleinman|1709396983808|\n",
      "|  the  final  201...|1700807049217|\n",
      "|         Erik Wilson|1700807049216|\n",
      "|  the  final   20...|1683627180032|\n",
      "| Carolyn King Arnold|1632087572480|\n",
      "| Rickey D.  Callahan|1597727834112|\n",
      "|   the   final  2...|1443109011456|\n",
      "|    Monica R. Alonzo|1382979469312|\n",
      "|     Lee M. Kleinman|1228360646656|\n",
      "|   Jennifer S. Gates|1194000908288|\n",
      "+--------------------+-------------+\n",
      "only showing top 10 rows\n",
      "\n"
     ]
    }
   ],
   "source": [
    "# Count the rows in voter_df\n",
    "print(\"\\nThere are %d rows in the voter_df DataFrame.\\n\" % voter_df.count())\n",
    "\n",
    "# Add a ROW_ID\n",
    "voter_df = voter_df.withColumn('ROW_ID', F.monotonically_increasing_id())\n",
    "\n",
    "# Show the rows with 10 highest IDs in the set\n",
    "voter_df.orderBy(voter_df.ROW_ID.desc()).show(10)"
   ]
  },
  {
   "cell_type": "code",
   "execution_count": null,
   "metadata": {},
   "outputs": [],
   "source": []
  }
 ],
 "metadata": {
  "kernelspec": {
   "display_name": "Python 3",
   "language": "python",
   "name": "python3"
  },
  "language_info": {
   "codemirror_mode": {
    "name": "ipython",
    "version": 3
   },
   "file_extension": ".py",
   "mimetype": "text/x-python",
   "name": "python",
   "nbconvert_exporter": "python",
   "pygments_lexer": "ipython3",
   "version": "3.6.9"
  },
  "toc": {
   "base_numbering": 1,
   "nav_menu": {},
   "number_sections": true,
   "sideBar": true,
   "skip_h1_title": false,
   "title_cell": "Table of Contents",
   "title_sidebar": "Contents",
   "toc_cell": false,
   "toc_position": {},
   "toc_section_display": true,
   "toc_window_display": false
  }
 },
 "nbformat": 4,
 "nbformat_minor": 2
}
