{
 "cells": [
  {
   "cell_type": "code",
   "execution_count": 7,
   "id": "f0351c43",
   "metadata": {},
   "outputs": [],
   "source": [
    "rdd1=sc.textFile('file:///home/talentum/spark-jupyter/Pair-RDD/Pair-RDD/selfishgiant.txt').flatMap(lambda l: l.split(' '))"
   ]
  },
  {
   "cell_type": "code",
   "execution_count": 8,
   "id": "93a5634d",
   "metadata": {},
   "outputs": [
    {
     "data": {
      "text/plain": [
       "['EVERY', 'afternoon,', 'as', 'they', 'were']"
      ]
     },
     "execution_count": 8,
     "metadata": {},
     "output_type": "execute_result"
    }
   ],
   "source": [
    "rdd1.take(5)"
   ]
  },
  {
   "cell_type": "code",
   "execution_count": 9,
   "id": "15505658",
   "metadata": {},
   "outputs": [],
   "source": [
    "rdd2=rdd1.map(lambda x : (x,1))"
   ]
  },
  {
   "cell_type": "code",
   "execution_count": 10,
   "id": "5fede768",
   "metadata": {},
   "outputs": [
    {
     "data": {
      "text/plain": [
       "[('EVERY', 1), ('afternoon,', 1), ('as', 1), ('they', 1), ('were', 1)]"
      ]
     },
     "execution_count": 10,
     "metadata": {},
     "output_type": "execute_result"
    }
   ],
   "source": [
    "rdd2.take(5)"
   ]
  },
  {
   "cell_type": "code",
   "execution_count": 11,
   "id": "40c6265e",
   "metadata": {},
   "outputs": [],
   "source": [
    "rdd3=rdd2.reduceByKey(lambda x,y :x+y )"
   ]
  },
  {
   "cell_type": "code",
   "execution_count": 12,
   "id": "98cf0d4b",
   "metadata": {},
   "outputs": [
    {
     "data": {
      "text/plain": [
       "[('EVERY', 1), ('as', 9), ('school,', 1), ('used', 4), ('go', 1)]"
      ]
     },
     "execution_count": 12,
     "metadata": {},
     "output_type": "execute_result"
    }
   ],
   "source": [
    "rdd3.take(5)"
   ]
  },
  {
   "cell_type": "code",
   "execution_count": 18,
   "id": "a6d59614",
   "metadata": {},
   "outputs": [],
   "source": [
    "months=('jan','feb','mar','apr','may','jun','jul')"
   ]
  },
  {
   "cell_type": "code",
   "execution_count": 19,
   "id": "cb4bf409",
   "metadata": {},
   "outputs": [],
   "source": [
    "rdda=sc.parallelize(months)"
   ]
  },
  {
   "cell_type": "code",
   "execution_count": 31,
   "id": "dcf9e569",
   "metadata": {},
   "outputs": [],
   "source": [
    "rddb=rdda.zipWithIndex()"
   ]
  },
  {
   "cell_type": "code",
   "execution_count": 32,
   "id": "7efc8585",
   "metadata": {},
   "outputs": [
    {
     "data": {
      "text/plain": [
       "PythonRDD[25] at RDD at PythonRDD.scala:53"
      ]
     },
     "execution_count": 32,
     "metadata": {},
     "output_type": "execute_result"
    }
   ],
   "source": [
    "rddb"
   ]
  },
  {
   "cell_type": "code",
   "execution_count": 33,
   "id": "d9215780",
   "metadata": {},
   "outputs": [
    {
     "data": {
      "text/plain": [
       "PythonRDD[25] at RDD at PythonRDD.scala:53"
      ]
     },
     "execution_count": 33,
     "metadata": {},
     "output_type": "execute_result"
    }
   ],
   "source": [
    "rddb"
   ]
  },
  {
   "cell_type": "code",
   "execution_count": 35,
   "id": "65a0eccb",
   "metadata": {},
   "outputs": [
    {
     "data": {
      "text/plain": [
       "[('jan', 1),\n",
       " ('feb', 2),\n",
       " ('mar', 3),\n",
       " ('apr', 4),\n",
       " ('may', 5),\n",
       " ('jun', 6),\n",
       " ('jul', 7)]"
      ]
     },
     "execution_count": 35,
     "metadata": {},
     "output_type": "execute_result"
    }
   ],
   "source": [
    "rddb.mapValues(lambda x : x+1).collect()"
   ]
  },
  {
   "cell_type": "code",
   "execution_count": 38,
   "id": "643d0963",
   "metadata": {},
   "outputs": [
    {
     "data": {
      "text/plain": [
       "{'jan': 1, 'feb': 2, 'mar': 3, 'apr': 4, 'may': 5, 'jun': 6, 'jul': 7}"
      ]
     },
     "execution_count": 38,
     "metadata": {},
     "output_type": "execute_result"
    }
   ],
   "source": [
    "rddb.map(lambda x : (x[0],x[1]+1)).collectAsMap()"
   ]
  },
  {
   "cell_type": "code",
   "execution_count": 39,
   "id": "d73f1a3b",
   "metadata": {},
   "outputs": [
    {
     "data": {
      "text/plain": [
       "'local-1700655206679'"
      ]
     },
     "execution_count": 39,
     "metadata": {},
     "output_type": "execute_result"
    }
   ],
   "source": [
    "sc.applicationId"
   ]
  },
  {
   "cell_type": "code",
   "execution_count": 40,
   "id": "1765b222",
   "metadata": {},
   "outputs": [
    {
     "data": {
      "text/plain": [
       "'local[*]'"
      ]
     },
     "execution_count": 40,
     "metadata": {},
     "output_type": "execute_result"
    }
   ],
   "source": [
    "sc.master"
   ]
  },
  {
   "cell_type": "code",
   "execution_count": 42,
   "id": "938df6dc",
   "metadata": {},
   "outputs": [
    {
     "data": {
      "text/plain": [
       "'talentum'"
      ]
     },
     "execution_count": 42,
     "metadata": {},
     "output_type": "execute_result"
    }
   ],
   "source": [
    "sc.sparkUser()"
   ]
  },
  {
   "cell_type": "code",
   "execution_count": 46,
   "id": "b3b0bd82",
   "metadata": {},
   "outputs": [
    {
     "name": "stdout",
     "output_type": "stream",
     "text": [
      "None\n"
     ]
    }
   ],
   "source": []
  },
  {
   "cell_type": "code",
   "execution_count": null,
   "id": "39a31b4c",
   "metadata": {},
   "outputs": [],
   "source": []
  }
 ],
 "metadata": {
  "kernelspec": {
   "display_name": "Python 3",
   "language": "python",
   "name": "python3"
  },
  "language_info": {
   "codemirror_mode": {
    "name": "ipython",
    "version": 3
   },
   "file_extension": ".py",
   "mimetype": "text/x-python",
   "name": "python",
   "nbconvert_exporter": "python",
   "pygments_lexer": "ipython3",
   "version": "3.6.9"
  }
 },
 "nbformat": 4,
 "nbformat_minor": 5
}
