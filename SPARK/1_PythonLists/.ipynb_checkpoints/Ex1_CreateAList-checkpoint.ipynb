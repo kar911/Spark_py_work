{
 "cells": [
  {
   "cell_type": "markdown",
   "metadata": {},
   "source": [
    "# Create a list\n",
    "> As opposed to `int`, `bool` etc., a list is a **compound data type**; you can group values together:\n",
    ">> a = \"is\"  \n",
    ">> b = \"nice\"  \n",
    ">> my_list = `[\"my\", \"list\", a, b]`\n",
    "\n",
    "> After measuring the height of your family, you decide to collect some information on the house you're living in.  \n",
    "The areas of the different parts of your house are stored in separate variables for now, as shown in the script.\n",
    "\n",
    "## Instructions\n",
    "\n",
    "> * Create a list, areas, that contains the area of the hallway (hall), kitchen (kit), living room (liv), bedroom (bed) and bathroom (bath), in this order. Use the predefined variables.\n",
    "* Print areas with the [print()](https://docs.python.org/3/library/functions.html#print) function.\n"
   ]
  },
  {
   "cell_type": "code",
   "execution_count": null,
   "metadata": {},
   "outputs": [],
   "source": [
    "# area variables (in square meters)\n",
    "hall = 11.25\n",
    "kit = 18.0\n",
    "liv = 20.0\n",
    "bed = 10.75\n",
    "bath = 9.50\n",
    "\n",
    "# Create list areas"
   ]
  }
 ],
 "metadata": {
  "kernelspec": {
   "display_name": "Python 3",
   "language": "python",
   "name": "python3"
  },
  "language_info": {
   "codemirror_mode": {
    "name": "ipython",
    "version": 3
   },
   "file_extension": ".py",
   "mimetype": "text/x-python",
   "name": "python",
   "nbconvert_exporter": "python",
   "pygments_lexer": "ipython3",
   "version": "3.6.9"
  }
 },
 "nbformat": 4,
 "nbformat_minor": 2
}
