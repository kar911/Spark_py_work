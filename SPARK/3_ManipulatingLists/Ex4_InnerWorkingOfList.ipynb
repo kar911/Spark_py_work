{
 "cells": [
  {
   "cell_type": "markdown",
   "metadata": {},
   "source": [
    "# Inner workings of lists\n",
    "\n",
    "> We know how Python lists work behind the scenes. In this exercise you'll get some hands-on experience with this.\n",
    "\n",
    "> The Python code in the script already creates a list with the name **`areas`** and a copy named **`areas_copy`**. Next, the first element in the **`areas_copy`** list is changed and the **`areas`** list is printed out. If you Run Code in IPython shell you'll see that, although you've changed **`areas_copy`**, the change also takes effect in the **`areas`** list. That's because **`areas`** and **`areas_copy`** point to the same list.\n",
    "\n",
    "> If you want to prevent changes in **`areas_copy`** from also taking effect in **`areas`**, *you'll have to do a more explicit copy of the areas list*. You can do this with **[list()](https://docs.python.org/3/library/functions.html#func-list)** or by using **`[:]`**.\n",
    "\n",
    "## Instructions\n",
    "> Change the second command, that creates the variable `areas_copy`, such that `areas_copy` is an explicit copy of `areas`. \n",
    "After your edit, changes made to `areas_copy` shouldn't affect `areas`. Check this."
   ]
  },
  {
   "cell_type": "code",
   "execution_count": 1,
   "metadata": {},
   "outputs": [
    {
     "name": "stdout",
     "output_type": "stream",
     "text": [
      "[5.0, 18.0, 20.0, 10.75, 9.5]\n"
     ]
    }
   ],
   "source": [
    "# Create list areas\n",
    "areas = [11.25, 18.0, 20.0, 10.75, 9.50]\n",
    "\n",
    "# Create areas_copy\n",
    "areas_copy = areas\n",
    "\n",
    "# Change areas_copy\n",
    "areas_copy[0] = 5.0\n",
    "\n",
    "# Print areas\n",
    "print(areas)"
   ]
  }
 ],
 "metadata": {
  "kernelspec": {
   "display_name": "Python 3",
   "language": "python",
   "name": "python3"
  },
  "language_info": {
   "codemirror_mode": {
    "name": "ipython",
    "version": 3
   },
   "file_extension": ".py",
   "mimetype": "text/x-python",
   "name": "python",
   "nbconvert_exporter": "python",
   "pygments_lexer": "ipython3",
   "version": "3.7.3"
  }
 },
 "nbformat": 4,
 "nbformat_minor": 2
}
