{
 "cells": [
  {
   "cell_type": "markdown",
   "metadata": {},
   "source": [
    "# Extend a list\n",
    "> If you can change elements in a list, you sure want to be able to add elements to it, right? You can use the **`+`** operator:  \n",
    ">> x = `[\"a\", \"b\", \"c\", \"d\"]`  \n",
    ">> y = x + `[\"e\", \"f\"]`\n",
    "\n",
    "> You just won the lottery, awesome! You decide to build a poolhouse and a garage. Can you add the information to the `areas` list?\n",
    "\n",
    "## Instructions\n",
    "> Use the `+` operator to paste the list `[\"poolhouse\", 24.5]` to the end of the **`areas`** list. Store the resulting list as **`areas_1`**.  \n",
    "> Further extend `areas_1` by adding data on your garage. Add the string \"`garage`\" and float `15.45`. Name the resulting list **`areas_2`**.\n"
   ]
  },
  {
   "cell_type": "code",
   "execution_count": 1,
   "metadata": {},
   "outputs": [],
   "source": [
    "# Create the areas list and make some changes\n",
    "areas = [\"hallway\", 11.25, \"kitchen\", 18.0, \"chill zone\", 20.0,\n",
    "         \"bedroom\", 10.75, \"bathroom\", 10.50]\n",
    "\n",
    "# Add poolhouse data to areas, new list is areas_1\n",
    "\n",
    "\n",
    "# Add garage data to areas_1, new list is areas_2"
   ]
  }
 ],
 "metadata": {
  "kernelspec": {
   "display_name": "Python 3",
   "language": "python",
   "name": "python3"
  },
  "language_info": {
   "codemirror_mode": {
    "name": "ipython",
    "version": 3
   },
   "file_extension": ".py",
   "mimetype": "text/x-python",
   "name": "python",
   "nbconvert_exporter": "python",
   "pygments_lexer": "ipython3",
   "version": "3.7.3"
  }
 },
 "nbformat": 4,
 "nbformat_minor": 2
}
