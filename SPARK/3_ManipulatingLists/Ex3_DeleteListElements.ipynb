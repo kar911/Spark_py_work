{
 "cells": [
  {
   "cell_type": "markdown",
   "metadata": {},
   "source": [
    "# Delete list elements\n",
    "> Finally, you can also remove elements from your list. You can do this with the `del` statement:  \n",
    ">> x = `[\"a\", \"b\", \"c\", \"d\"]`  \n",
    ">> del(x`[1]`)\n",
    "\n",
    "> Pay attention here: as soon as you remove an element from a list, the indexes of the elements that come after the deleted element all change!\n",
    "\n",
    "> The updated and extended version of `areas` that you've built in the previous exercises is coded below. You can copy and paste this into the IPython Shell to play around with the result."
   ]
  },
  {
   "cell_type": "code",
   "execution_count": 1,
   "metadata": {},
   "outputs": [],
   "source": [
    "areas = [\"hallway\", 11.25, \"kitchen\", 18.0,\n",
    "        \"chill zone\", 20.0, \"bedroom\", 10.75,\n",
    "         \"bathroom\", 10.50, \"poolhouse\", 24.5,\n",
    "         \"garage\", 15.45]\n"
   ]
  },
  {
   "cell_type": "markdown",
   "metadata": {},
   "source": [
    "> There was a mistake! The amount you won with the lottery is not that big after all and it looks like the poolhouse isn't going to happen. You decide to remove the corresponding string and float from the `areas` list.  \n",
    "> The `;` sign is used to place commands on the same line. The following two code chunks are equivalent:  \n",
    ">> `#` Same line  \n",
    ">> command1; command2\n",
    "\n",
    ">> `#` Separate lines  \n",
    ">> command1  \n",
    ">> command2\n",
    "\n",
    "> Which of the code chunks will do the job for us?\n",
    "\n",
    "## Instructions\n",
    "\n",
    "### Possible Answers\n",
    "* A. del(areas`[10]`); del(areas`[11]`)\n",
    "* B. del(areas`[10:11]`)\n",
    "* C. del(areas`[-4:-2]`)\n",
    "* D. del(areas`[-3]`); del(areas`[-4]`)\n"
   ]
  }
 ],
 "metadata": {
  "kernelspec": {
   "display_name": "Python 3",
   "language": "python",
   "name": "python3"
  },
  "language_info": {
   "codemirror_mode": {
    "name": "ipython",
    "version": 3
   },
   "file_extension": ".py",
   "mimetype": "text/x-python",
   "name": "python",
   "nbconvert_exporter": "python",
   "pygments_lexer": "ipython3",
   "version": "3.7.3"
  }
 },
 "nbformat": 4,
 "nbformat_minor": 2
}
