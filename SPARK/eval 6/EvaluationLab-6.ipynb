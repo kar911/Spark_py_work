{
 "cells": [
  {
   "cell_type": "markdown",
   "id": "7e339083",
   "metadata": {},
   "source": [
    "# Spark Evaluation Lab 6\n",
    "\n",
    "<img src=\"Spark_Lab_Statement.jpg\" align = \"center\">  \n",
    "\n",
    "- Analyze it using Spark and answer the following questions: \n",
    "> 1. Find which `sector` has the most startups"
   ]
  },
  {
   "cell_type": "code",
   "execution_count": 2,
   "id": "aa68295c",
   "metadata": {},
   "outputs": [
    {
     "name": "stdout",
     "output_type": "stream",
     "text": [
      "/home/talentum/spark-jupyter/eval 6\r\n"
     ]
    }
   ],
   "source": [
    "!pwd"
   ]
  },
  {
   "cell_type": "code",
   "execution_count": 13,
   "id": "fc679f34",
   "metadata": {},
   "outputs": [],
   "source": [
    "from pyspark.sql.functions import *"
   ]
  },
  {
   "cell_type": "code",
   "execution_count": 31,
   "id": "89dd7b17",
   "metadata": {},
   "outputs": [],
   "source": [
    "df=spark.read.csv('file:///home/talentum/spark-jupyter/eval 6/Listofstartups.csv',inferSchema=True,header=True)"
   ]
  },
  {
   "cell_type": "code",
   "execution_count": 32,
   "id": "23d6c80a",
   "metadata": {},
   "outputs": [
    {
     "data": {
      "text/plain": [
       "['Incubation_Center', 'Name_of_startup', 'Location of company', 'Sector']"
      ]
     },
     "execution_count": 32,
     "metadata": {},
     "output_type": "execute_result"
    }
   ],
   "source": [
    "df.columns\n"
   ]
  },
  {
   "cell_type": "code",
   "execution_count": 12,
   "id": "d3cc0f09",
   "metadata": {},
   "outputs": [
    {
     "name": "stdout",
     "output_type": "stream",
     "text": [
      "+----------+-----+\n",
      "|    Sector|count|\n",
      "+----------+-----+\n",
      "|Healthcare|   34|\n",
      "+----------+-----+\n",
      "only showing top 1 row\n",
      "\n"
     ]
    }
   ],
   "source": [
    "df.groupBy('Sector').count().orderBy('count',ascending=False).show(1)"
   ]
  },
  {
   "cell_type": "markdown",
   "id": "5b182eac",
   "metadata": {},
   "source": [
    "> 2. Split the `Location of company` into 2 columns, `state` and `city`. If state is not present then keep it as null "
   ]
  },
  {
   "cell_type": "code",
   "execution_count": 27,
   "id": "e25c3919",
   "metadata": {},
   "outputs": [
    {
     "name": "stdout",
     "output_type": "stream",
     "text": [
      "+--------------------+--------------------+--------------------+-----------+--------------+\n",
      "|   Incubation_Center|     Name_of_startup| Location of company|     Sector|         state|\n",
      "+--------------------+--------------------+--------------------+-----------+--------------+\n",
      "|      ABES Ghaziabad|            Suryansh|           New Delhi|     EdTech|     New Delhi|\n",
      "|AIC Banasthali Vi...|Thinkpods Educati...| Satara, Maharashtra|    Ed Tech|   Maharashtra|\n",
      "|AIC Banasthali Vi...|Inventiway Soluti...| Mumbai, Maharashtra|    HR Tech|   Maharashtra|\n",
      "|AIC Banasthali Vi...|C2M Internet Indi...|Lucknow, Uttar Pr...|Retail Tech| Uttar Pradesh|\n",
      "|AIC Pinnacle Entr...|            Wastinno|   Pune, Maharashtra|agriculture|   Maharashtra|\n",
      "+--------------------+--------------------+--------------------+-----------+--------------+\n",
      "only showing top 5 rows\n",
      "\n",
      "+--------------------+--------------------+--------------------+-----------+---------+\n",
      "|   Incubation_Center|     Name_of_startup| Location of company|     Sector|     city|\n",
      "+--------------------+--------------------+--------------------+-----------+---------+\n",
      "|      ABES Ghaziabad|            Suryansh|           New Delhi|     EdTech|New Delhi|\n",
      "|AIC Banasthali Vi...|Thinkpods Educati...| Satara, Maharashtra|    Ed Tech|   Satara|\n",
      "|AIC Banasthali Vi...|Inventiway Soluti...| Mumbai, Maharashtra|    HR Tech|   Mumbai|\n",
      "|AIC Banasthali Vi...|C2M Internet Indi...|Lucknow, Uttar Pr...|Retail Tech|  Lucknow|\n",
      "|AIC Pinnacle Entr...|            Wastinno|   Pune, Maharashtra|agriculture|     Pune|\n",
      "+--------------------+--------------------+--------------------+-----------+---------+\n",
      "only showing top 5 rows\n",
      "\n"
     ]
    }
   ],
   "source": [
    "df.withColumn('state',when(size (split(df['Location of company'],',') )== 1 , split(df['Location of company'],',')[0]).otherwise(split(df['Location of company'],',')[1])).show(5)\n",
    "df.withColumn('city',split(df['Location of company'],',')[0]).show(5)"
   ]
  },
  {
   "cell_type": "code",
   "execution_count": 33,
   "id": "7577aa25",
   "metadata": {},
   "outputs": [
    {
     "name": "stdout",
     "output_type": "stream",
     "text": [
      "+--------------------+--------------------+--------------------+-----------+--------------+\n",
      "|   Incubation_Center|     Name_of_startup| Location of company|     Sector|         state|\n",
      "+--------------------+--------------------+--------------------+-----------+--------------+\n",
      "|      ABES Ghaziabad|            Suryansh|           New Delhi|     EdTech|     New Delhi|\n",
      "|AIC Banasthali Vi...|Thinkpods Educati...| Satara, Maharashtra|    Ed Tech|   Maharashtra|\n",
      "|AIC Banasthali Vi...|Inventiway Soluti...| Mumbai, Maharashtra|    HR Tech|   Maharashtra|\n",
      "|AIC Banasthali Vi...|C2M Internet Indi...|Lucknow, Uttar Pr...|Retail Tech| Uttar Pradesh|\n",
      "|AIC Pinnacle Entr...|            Wastinno|   Pune, Maharashtra|agriculture|   Maharashtra|\n",
      "+--------------------+--------------------+--------------------+-----------+--------------+\n",
      "only showing top 5 rows\n",
      "\n",
      "+--------------------+--------------------+--------------------+-----------+---------+\n",
      "|   Incubation_Center|     Name_of_startup| Location of company|     Sector|     city|\n",
      "+--------------------+--------------------+--------------------+-----------+---------+\n",
      "|      ABES Ghaziabad|            Suryansh|           New Delhi|     EdTech|New Delhi|\n",
      "|AIC Banasthali Vi...|Thinkpods Educati...| Satara, Maharashtra|    Ed Tech|   Satara|\n",
      "|AIC Banasthali Vi...|Inventiway Soluti...| Mumbai, Maharashtra|    HR Tech|   Mumbai|\n",
      "|AIC Banasthali Vi...|C2M Internet Indi...|Lucknow, Uttar Pr...|Retail Tech|  Lucknow|\n",
      "|AIC Pinnacle Entr...|            Wastinno|   Pune, Maharashtra|agriculture|     Pune|\n",
      "+--------------------+--------------------+--------------------+-----------+---------+\n",
      "only showing top 5 rows\n",
      "\n"
     ]
    }
   ],
   "source": [
    "df.withColumn('state',when(size (split(df['Location of company'],',') )== 1 , split(df['Location of company'],',')[0]).otherwise(split(df['Location of company'],',')[1])).show(5)\n",
    "df.withColumn('city',split(df['Location of company'],',')[0]).show(5)"
   ]
  },
  {
   "cell_type": "markdown",
   "id": "85d751b7",
   "metadata": {},
   "source": [
    "> 3. If `Location of company` column has a data `DIAT,Pune` then set \n",
    "    `state` as `Maharashtra` and `city` as `DIAT Pune`."
   ]
  },
  {
   "cell_type": "code",
   "execution_count": null,
   "id": "2d68c977",
   "metadata": {},
   "outputs": [],
   "source": []
  },
  {
   "cell_type": "markdown",
   "id": "0442b140",
   "metadata": {},
   "source": [
    "> 4. If `Location of company` column has a data `Ulhasnagar` then \n",
    "    set `state` as `Maharashtra` and `city` as `Ulhasnagar`"
   ]
  },
  {
   "cell_type": "code",
   "execution_count": null,
   "id": "339ac62a",
   "metadata": {},
   "outputs": [],
   "source": []
  },
  {
   "cell_type": "markdown",
   "id": "371b630e",
   "metadata": {},
   "source": [
    "> 5. Find which State has the max number of startups"
   ]
  },
  {
   "cell_type": "code",
   "execution_count": null,
   "id": "94fb05d9",
   "metadata": {},
   "outputs": [],
   "source": []
  },
  {
   "cell_type": "markdown",
   "id": "71e8b8a6",
   "metadata": {},
   "source": [
    "> 6. Find all the startups from `Maharashtra`."
   ]
  },
  {
   "cell_type": "code",
   "execution_count": null,
   "id": "3ce03c1f",
   "metadata": {},
   "outputs": [],
   "source": []
  },
  {
   "cell_type": "markdown",
   "id": "d35b2eda",
   "metadata": {},
   "source": [
    "> 7. How many startups were formed in `Healthcare` sector"
   ]
  },
  {
   "cell_type": "code",
   "execution_count": null,
   "id": "339293e6",
   "metadata": {},
   "outputs": [],
   "source": []
  },
  {
   "cell_type": "markdown",
   "id": "e7ccbea1",
   "metadata": {},
   "source": [
    "> 8. Display all startups from `Pune` and `Nashik`"
   ]
  },
  {
   "cell_type": "code",
   "execution_count": null,
   "id": "23744c2f",
   "metadata": {},
   "outputs": [],
   "source": []
  },
  {
   "cell_type": "markdown",
   "id": "0c2de5f4",
   "metadata": {},
   "source": [
    "> 9. Sort the cities in `Maharashtra` in descending order of the \n",
    "    count of startups"
   ]
  },
  {
   "cell_type": "code",
   "execution_count": null,
   "id": "b7dcd7b7",
   "metadata": {},
   "outputs": [],
   "source": []
  },
  {
   "cell_type": "markdown",
   "id": "2ab6d838",
   "metadata": {},
   "source": [
    "> 10. How many startups are in South India. That is states \n",
    "    `Karnataka`, `Tamilnadu`, `Telangana`, `Andhra Pradesh`"
   ]
  },
  {
   "cell_type": "code",
   "execution_count": null,
   "id": "718a30e1",
   "metadata": {},
   "outputs": [],
   "source": []
  },
  {
   "cell_type": "markdown",
   "id": "89946413",
   "metadata": {},
   "source": [
    "> 11. How many startups are in `Gujarat`"
   ]
  },
  {
   "cell_type": "code",
   "execution_count": null,
   "id": "8a2220a7",
   "metadata": {},
   "outputs": [],
   "source": []
  },
  {
   "cell_type": "markdown",
   "id": "7a8fa855",
   "metadata": {},
   "source": [
    "> 12. How many startups are in North India.That is states other than \n",
    "    `Karnataka`, `Tamilnadu`, `Telangana`, `Andhra Pradesh` and \n",
    "    `Maharashtra`"
   ]
  },
  {
   "cell_type": "code",
   "execution_count": null,
   "id": "074aae12",
   "metadata": {},
   "outputs": [],
   "source": []
  },
  {
   "cell_type": "markdown",
   "id": "13c315ab",
   "metadata": {},
   "source": [
    "> 13. What is the percentage of startup initiative from South India \n",
    "    and Maharashtra"
   ]
  },
  {
   "cell_type": "code",
   "execution_count": null,
   "id": "f9bf0964",
   "metadata": {},
   "outputs": [],
   "source": []
  },
  {
   "cell_type": "markdown",
   "id": "67aa7dec",
   "metadata": {},
   "source": [
    "> 14. What is the percentage contribution of startup from Maharashtra"
   ]
  },
  {
   "cell_type": "code",
   "execution_count": null,
   "id": "f724b547",
   "metadata": {},
   "outputs": [],
   "source": []
  },
  {
   "cell_type": "markdown",
   "id": "e5b21301",
   "metadata": {},
   "source": [
    "> 15. What is the percentage contribution of startup from Gujarat"
   ]
  },
  {
   "cell_type": "code",
   "execution_count": null,
   "id": "15b0c644",
   "metadata": {},
   "outputs": [],
   "source": []
  },
  {
   "cell_type": "markdown",
   "id": "24b65821",
   "metadata": {},
   "source": [
    "> 16. Replace `state` with null values to `Unknown`"
   ]
  },
  {
   "cell_type": "code",
   "execution_count": null,
   "id": "5db1cf5a",
   "metadata": {},
   "outputs": [],
   "source": []
  },
  {
   "cell_type": "code",
   "execution_count": 1,
   "id": "0de212f9",
   "metadata": {},
   "outputs": [],
   "source": [
    "# Intialization\n",
    "import os\n",
    "import sys\n",
    "\n",
    "os.environ[\"SPARK_HOME\"] = \"/home/talentum/spark\"\n",
    "os.environ[\"PYLIB\"] = os.environ[\"SPARK_HOME\"] + \"/python/lib\"\n",
    "# In below two lines, use /usr/bin/python2.7 if you want to use Python 2\n",
    "os.environ[\"PYSPARK_PYTHON\"] = \"/usr/bin/python3.6\" \n",
    "os.environ[\"PYSPARK_DRIVER_PYTHON\"] = \"/usr/bin/python3\"\n",
    "sys.path.insert(0, os.environ[\"PYLIB\"] +\"/py4j-0.10.7-src.zip\")\n",
    "sys.path.insert(0, os.environ[\"PYLIB\"] +\"/pyspark.zip\")\n",
    "\n",
    "# NOTE: Whichever package you want mention here.\n",
    "# os.environ['PYSPARK_SUBMIT_ARGS'] = '--packages com.databricks:spark-xml_2.11:0.6.0 pyspark-shell' \n",
    "# os.environ['PYSPARK_SUBMIT_ARGS'] = '--packages org.apache.spark:spark-avro_2.11:2.4.0 pyspark-shell'\n",
    "os.environ['PYSPARK_SUBMIT_ARGS'] = '--packages com.databricks:spark-xml_2.11:0.6.0,org.apache.spark:spark-avro_2.11:2.4.3 pyspark-shell'\n",
    "# os.environ['PYSPARK_SUBMIT_ARGS'] = '--packages com.databricks:spark-xml_2.11:0.6.0,org.apache.spark:spark-avro_2.11:2.4.0 pyspark-shell'"
   ]
  },
  {
   "cell_type": "code",
   "execution_count": 2,
   "id": "cc0b6d9b",
   "metadata": {},
   "outputs": [],
   "source": [
    "#Entrypoint 2.x\n",
    "from pyspark.sql import SparkSession\n",
    "spark = SparkSession.builder.appName(\"Spark SQL basic example\").enableHiveSupport().getOrCreate()\n",
    "\n",
    "# On yarn:\n",
    "# spark = SparkSession.builder.appName(\"Spark SQL basic example\").enableHiveSupport().master(\"yarn\").getOrCreate()\n",
    "# specify .master(\"yarn\")\n",
    "\n",
    "sc = spark.sparkContext"
   ]
  },
  {
   "cell_type": "code",
   "execution_count": null,
   "id": "ee004e5f",
   "metadata": {},
   "outputs": [],
   "source": []
  }
 ],
 "metadata": {
  "kernelspec": {
   "display_name": "Python 3",
   "language": "python",
   "name": "python3"
  },
  "language_info": {
   "codemirror_mode": {
    "name": "ipython",
    "version": 3
   },
   "file_extension": ".py",
   "mimetype": "text/x-python",
   "name": "python",
   "nbconvert_exporter": "python",
   "pygments_lexer": "ipython3",
   "version": "3.6.9"
  }
 },
 "nbformat": 4,
 "nbformat_minor": 5
}
