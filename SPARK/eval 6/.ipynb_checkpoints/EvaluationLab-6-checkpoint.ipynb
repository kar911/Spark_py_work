{
 "cells": [
  {
   "cell_type": "markdown",
   "id": "acf57820",
   "metadata": {},
   "source": [
    "# Spark Evaluation Lab 6\n",
    "\n",
    "<img src=\"Spark_Lab_Statement.jpg\" align = \"center\">  \n",
    "\n",
    "- Analyze it using Spark and answer the following questions: \n",
    "> 1. Find which `sector` has the most startups"
   ]
  },
  {
   "cell_type": "code",
   "execution_count": 2,
   "id": "d5e606d0",
   "metadata": {},
   "outputs": [
    {
     "name": "stdout",
     "output_type": "stream",
     "text": [
      "/home/talentum/spark-jupyter/eval 6\r\n"
     ]
    }
   ],
   "source": [
    "!pwd"
   ]
  },
  {
   "cell_type": "code",
   "execution_count": 13,
   "id": "47569ec9",
   "metadata": {},
   "outputs": [],
   "source": [
    "from pyspark.sql.functions import *"
   ]
  },
  {
   "cell_type": "code",
   "execution_count": 5,
   "id": "b0b963fa",
   "metadata": {},
   "outputs": [],
   "source": [
    "df=spark.read.csv('file:///home/talentum/spark-jupyter/eval 6/Listofstartups.csv',inferSchema=True,header=True)"
   ]
  },
  {
   "cell_type": "markdown",
   "id": "9cc5910f",
   "metadata": {},
   "source": [
    "\n"
   ]
  },
  {
   "cell_type": "code",
   "execution_count": 12,
   "id": "dedf3f74",
   "metadata": {},
   "outputs": [
    {
     "name": "stdout",
     "output_type": "stream",
     "text": [
      "+----------+-----+\n",
      "|    Sector|count|\n",
      "+----------+-----+\n",
      "|Healthcare|   34|\n",
      "+----------+-----+\n",
      "only showing top 1 row\n",
      "\n"
     ]
    }
   ],
   "source": [
    "df.groupBy('Sector').count().orderBy('count',ascending=False).show(1)"
   ]
  },
  {
   "cell_type": "markdown",
   "id": "6a2663b9",
   "metadata": {},
   "source": [
    "> 2. Split the `Location of company` into 2 columns, `state` and `city`. If state is not present then keep it as null "
   ]
  },
  {
   "cell_type": "code",
   "execution_count": 27,
   "id": "0f34a938",
   "metadata": {},
   "outputs": [
    {
     "name": "stdout",
     "output_type": "stream",
     "text": [
      "+--------------------+--------------------+--------------------+-----------+--------------+\n",
      "|   Incubation_Center|     Name_of_startup| Location of company|     Sector|         state|\n",
      "+--------------------+--------------------+--------------------+-----------+--------------+\n",
      "|      ABES Ghaziabad|            Suryansh|           New Delhi|     EdTech|     New Delhi|\n",
      "|AIC Banasthali Vi...|Thinkpods Educati...| Satara, Maharashtra|    Ed Tech|   Maharashtra|\n",
      "|AIC Banasthali Vi...|Inventiway Soluti...| Mumbai, Maharashtra|    HR Tech|   Maharashtra|\n",
      "|AIC Banasthali Vi...|C2M Internet Indi...|Lucknow, Uttar Pr...|Retail Tech| Uttar Pradesh|\n",
      "|AIC Pinnacle Entr...|            Wastinno|   Pune, Maharashtra|agriculture|   Maharashtra|\n",
      "+--------------------+--------------------+--------------------+-----------+--------------+\n",
      "only showing top 5 rows\n",
      "\n",
      "+--------------------+--------------------+--------------------+-----------+---------+\n",
      "|   Incubation_Center|     Name_of_startup| Location of company|     Sector|     city|\n",
      "+--------------------+--------------------+--------------------+-----------+---------+\n",
      "|      ABES Ghaziabad|            Suryansh|           New Delhi|     EdTech|New Delhi|\n",
      "|AIC Banasthali Vi...|Thinkpods Educati...| Satara, Maharashtra|    Ed Tech|   Satara|\n",
      "|AIC Banasthali Vi...|Inventiway Soluti...| Mumbai, Maharashtra|    HR Tech|   Mumbai|\n",
      "|AIC Banasthali Vi...|C2M Internet Indi...|Lucknow, Uttar Pr...|Retail Tech|  Lucknow|\n",
      "|AIC Pinnacle Entr...|            Wastinno|   Pune, Maharashtra|agriculture|     Pune|\n",
      "+--------------------+--------------------+--------------------+-----------+---------+\n",
      "only showing top 5 rows\n",
      "\n"
     ]
    }
   ],
   "source": [
    "df.withColumn('state',when(size(split(df['Location of company'],',') )== 1 , split(df['Location of company'],',')[0]).otherwise(split(df['Location of company'],',')[1])).show(5)\n",
    "df.withColumn('city',split(df['Location of company'],',')[0]).show(5)"
   ]
  },
  {
   "cell_type": "markdown",
   "id": "42b59a7a",
   "metadata": {},
   "source": [
    "> 3. If `Location of company` column has a data `DIAT,Pune` then set \n",
    "    `state` as `Maharashtra` and `city` as `DIAT Pune`."
   ]
  },
  {
   "cell_type": "code",
   "execution_count": null,
   "id": "b1f05d0b",
   "metadata": {},
   "outputs": [],
   "source": []
  },
  {
   "cell_type": "markdown",
   "id": "80d3ba9a",
   "metadata": {},
   "source": [
    "> 4. If `Location of company` column has a data `Ulhasnagar` then \n",
    "    set `state` as `Maharashtra` and `city` as `Ulhasnagar`"
   ]
  },
  {
   "cell_type": "code",
   "execution_count": null,
   "id": "225224b3",
   "metadata": {},
   "outputs": [],
   "source": []
  },
  {
   "cell_type": "markdown",
   "id": "eedeeafb",
   "metadata": {},
   "source": [
    "> 5. Find which State has the max number of startups"
   ]
  },
  {
   "cell_type": "code",
   "execution_count": null,
   "id": "52c9fe3b",
   "metadata": {},
   "outputs": [],
   "source": []
  },
  {
   "cell_type": "markdown",
   "id": "50f08f92",
   "metadata": {},
   "source": [
    "> 6. Find all the startups from `Maharashtra`."
   ]
  },
  {
   "cell_type": "code",
   "execution_count": null,
   "id": "2b49fc79",
   "metadata": {},
   "outputs": [],
   "source": []
  },
  {
   "cell_type": "markdown",
   "id": "7c167b3e",
   "metadata": {},
   "source": [
    "> 7. How many startups were formed in `Healthcare` sector"
   ]
  },
  {
   "cell_type": "code",
   "execution_count": null,
   "id": "d17c9823",
   "metadata": {},
   "outputs": [],
   "source": []
  },
  {
   "cell_type": "markdown",
   "id": "332515f9",
   "metadata": {},
   "source": [
    "> 8. Display all startups from `Pune` and `Nashik`"
   ]
  },
  {
   "cell_type": "code",
   "execution_count": null,
   "id": "cb65a7dc",
   "metadata": {},
   "outputs": [],
   "source": []
  },
  {
   "cell_type": "markdown",
   "id": "e585d155",
   "metadata": {},
   "source": [
    "> 9. Sort the cities in `Maharashtra` in descending order of the \n",
    "    count of startups"
   ]
  },
  {
   "cell_type": "code",
   "execution_count": null,
   "id": "f60b4a28",
   "metadata": {},
   "outputs": [],
   "source": []
  },
  {
   "cell_type": "markdown",
   "id": "7a6ff7a5",
   "metadata": {},
   "source": [
    "> 10. How many startups are in South India. That is states \n",
    "    `Karnataka`, `Tamilnadu`, `Telangana`, `Andhra Pradesh`"
   ]
  },
  {
   "cell_type": "code",
   "execution_count": null,
   "id": "2ffe4d54",
   "metadata": {},
   "outputs": [],
   "source": []
  },
  {
   "cell_type": "markdown",
   "id": "e3982271",
   "metadata": {},
   "source": [
    "> 11. How many startups are in `Gujarat`"
   ]
  },
  {
   "cell_type": "code",
   "execution_count": null,
   "id": "d2144c72",
   "metadata": {},
   "outputs": [],
   "source": []
  },
  {
   "cell_type": "markdown",
   "id": "37e812da",
   "metadata": {},
   "source": [
    "> 12. How many startups are in North India.That is states other than \n",
    "    `Karnataka`, `Tamilnadu`, `Telangana`, `Andhra Pradesh` and \n",
    "    `Maharashtra`"
   ]
  },
  {
   "cell_type": "code",
   "execution_count": null,
   "id": "82565016",
   "metadata": {},
   "outputs": [],
   "source": []
  },
  {
   "cell_type": "markdown",
   "id": "10c035fc",
   "metadata": {},
   "source": [
    "> 13. What is the percentage of startup initiative from South India \n",
    "    and Maharashtra"
   ]
  },
  {
   "cell_type": "code",
   "execution_count": null,
   "id": "e01fd650",
   "metadata": {},
   "outputs": [],
   "source": []
  },
  {
   "cell_type": "markdown",
   "id": "fe59d331",
   "metadata": {},
   "source": [
    "> 14. What is the percentage contribution of startup from Maharashtra"
   ]
  },
  {
   "cell_type": "code",
   "execution_count": null,
   "id": "f54f93a9",
   "metadata": {},
   "outputs": [],
   "source": []
  },
  {
   "cell_type": "markdown",
   "id": "bcc3eeed",
   "metadata": {},
   "source": [
    "> 15. What is the percentage contribution of startup from Gujarat"
   ]
  },
  {
   "cell_type": "code",
   "execution_count": null,
   "id": "777b456a",
   "metadata": {},
   "outputs": [],
   "source": []
  },
  {
   "cell_type": "markdown",
   "id": "24b65821",
   "metadata": {},
   "source": [
    "> 16. Replace `state` with null values to `Unknown`"
   ]
  },
  {
   "cell_type": "code",
   "execution_count": null,
   "id": "02701545",
   "metadata": {},
   "outputs": [],
   "source": []
  },
  {
   "cell_type": "code",
   "execution_count": 1,
   "id": "0de212f9",
   "metadata": {},
   "outputs": [],
   "source": [
    "# Intialization\n",
    "import os\n",
    "import sys\n",
    "\n",
    "os.environ[\"SPARK_HOME\"] = \"/home/talentum/spark\"\n",
    "os.environ[\"PYLIB\"] = os.environ[\"SPARK_HOME\"] + \"/python/lib\"\n",
    "# In below two lines, use /usr/bin/python2.7 if you want to use Python 2\n",
    "os.environ[\"PYSPARK_PYTHON\"] = \"/usr/bin/python3.6\" \n",
    "os.environ[\"PYSPARK_DRIVER_PYTHON\"] = \"/usr/bin/python3\"\n",
    "sys.path.insert(0, os.environ[\"PYLIB\"] +\"/py4j-0.10.7-src.zip\")\n",
    "sys.path.insert(0, os.environ[\"PYLIB\"] +\"/pyspark.zip\")\n",
    "\n",
    "# NOTE: Whichever package you want mention here.\n",
    "# os.environ['PYSPARK_SUBMIT_ARGS'] = '--packages com.databricks:spark-xml_2.11:0.6.0 pyspark-shell' \n",
    "# os.environ['PYSPARK_SUBMIT_ARGS'] = '--packages org.apache.spark:spark-avro_2.11:2.4.0 pyspark-shell'\n",
    "os.environ['PYSPARK_SUBMIT_ARGS'] = '--packages com.databricks:spark-xml_2.11:0.6.0,org.apache.spark:spark-avro_2.11:2.4.3 pyspark-shell'\n",
    "# os.environ['PYSPARK_SUBMIT_ARGS'] = '--packages com.databricks:spark-xml_2.11:0.6.0,org.apache.spark:spark-avro_2.11:2.4.0 pyspark-shell'"
   ]
  },
  {
   "cell_type": "code",
   "execution_count": 2,
   "id": "cc0b6d9b",
   "metadata": {},
   "outputs": [],
   "source": [
    "#Entrypoint 2.x\n",
    "from pyspark.sql import SparkSession\n",
    "spark = SparkSession.builder.appName(\"Spark SQL basic example\").enableHiveSupport().getOrCreate()\n",
    "\n",
    "# On yarn:\n",
    "# spark = SparkSession.builder.appName(\"Spark SQL basic example\").enableHiveSupport().master(\"yarn\").getOrCreate()\n",
    "# specify .master(\"yarn\")\n",
    "\n",
    "sc = spark.sparkContext"
   ]
  },
  {
   "cell_type": "code",
   "execution_count": null,
   "id": "ee004e5f",
   "metadata": {},
   "outputs": [],
   "source": []
  }
 ],
 "metadata": {
  "kernelspec": {
   "display_name": "Python 3",
   "language": "python",
   "name": "python3"
  },
  "language_info": {
   "codemirror_mode": {
    "name": "ipython",
    "version": 3
   },
   "file_extension": ".py",
   "mimetype": "text/x-python",
   "name": "python",
   "nbconvert_exporter": "python",
   "pygments_lexer": "ipython3",
   "version": "3.6.9"
  }
 },
 "nbformat": 4,
 "nbformat_minor": 5
}
